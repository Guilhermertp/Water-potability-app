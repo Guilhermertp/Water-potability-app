{
 "cells": [
  {
   "cell_type": "code",
   "execution_count": 19,
   "metadata": {},
   "outputs": [],
   "source": [
    "import pandas as pd"
   ]
  },
  {
   "cell_type": "code",
   "execution_count": 20,
   "metadata": {},
   "outputs": [],
   "source": [
    "water_parameters = pd.read_csv('C:\\\\Users\\\\guilh\\\\Ironhack\\\\Final Proj Iron Hack\\\\Water potability\\water_potability.csv')"
   ]
  },
  {
   "cell_type": "code",
   "execution_count": 21,
   "metadata": {
    "scrolled": true
   },
   "outputs": [
    {
     "data": {
      "text/html": [
       "<div>\n",
       "<style scoped>\n",
       "    .dataframe tbody tr th:only-of-type {\n",
       "        vertical-align: middle;\n",
       "    }\n",
       "\n",
       "    .dataframe tbody tr th {\n",
       "        vertical-align: top;\n",
       "    }\n",
       "\n",
       "    .dataframe thead th {\n",
       "        text-align: right;\n",
       "    }\n",
       "</style>\n",
       "<table border=\"1\" class=\"dataframe\">\n",
       "  <thead>\n",
       "    <tr style=\"text-align: right;\">\n",
       "      <th></th>\n",
       "      <th>ph</th>\n",
       "      <th>Hardness</th>\n",
       "      <th>Solids</th>\n",
       "      <th>Chloramines</th>\n",
       "      <th>Sulfate</th>\n",
       "      <th>Conductivity</th>\n",
       "      <th>Organic_carbon</th>\n",
       "      <th>Trihalomethanes</th>\n",
       "      <th>Turbidity</th>\n",
       "      <th>Potability</th>\n",
       "    </tr>\n",
       "  </thead>\n",
       "  <tbody>\n",
       "    <tr>\n",
       "      <th>0</th>\n",
       "      <td>NaN</td>\n",
       "      <td>204.890455</td>\n",
       "      <td>20791.318981</td>\n",
       "      <td>7.300212</td>\n",
       "      <td>368.516441</td>\n",
       "      <td>564.308654</td>\n",
       "      <td>10.379783</td>\n",
       "      <td>86.990970</td>\n",
       "      <td>2.963135</td>\n",
       "      <td>0</td>\n",
       "    </tr>\n",
       "    <tr>\n",
       "      <th>1</th>\n",
       "      <td>3.716080</td>\n",
       "      <td>129.422921</td>\n",
       "      <td>18630.057858</td>\n",
       "      <td>6.635246</td>\n",
       "      <td>NaN</td>\n",
       "      <td>592.885359</td>\n",
       "      <td>15.180013</td>\n",
       "      <td>56.329076</td>\n",
       "      <td>4.500656</td>\n",
       "      <td>0</td>\n",
       "    </tr>\n",
       "    <tr>\n",
       "      <th>2</th>\n",
       "      <td>8.099124</td>\n",
       "      <td>224.236259</td>\n",
       "      <td>19909.541732</td>\n",
       "      <td>9.275884</td>\n",
       "      <td>NaN</td>\n",
       "      <td>418.606213</td>\n",
       "      <td>16.868637</td>\n",
       "      <td>66.420093</td>\n",
       "      <td>3.055934</td>\n",
       "      <td>0</td>\n",
       "    </tr>\n",
       "    <tr>\n",
       "      <th>3</th>\n",
       "      <td>8.316766</td>\n",
       "      <td>214.373394</td>\n",
       "      <td>22018.417441</td>\n",
       "      <td>8.059332</td>\n",
       "      <td>356.886136</td>\n",
       "      <td>363.266516</td>\n",
       "      <td>18.436524</td>\n",
       "      <td>100.341674</td>\n",
       "      <td>4.628771</td>\n",
       "      <td>0</td>\n",
       "    </tr>\n",
       "    <tr>\n",
       "      <th>4</th>\n",
       "      <td>9.092223</td>\n",
       "      <td>181.101509</td>\n",
       "      <td>17978.986339</td>\n",
       "      <td>6.546600</td>\n",
       "      <td>310.135738</td>\n",
       "      <td>398.410813</td>\n",
       "      <td>11.558279</td>\n",
       "      <td>31.997993</td>\n",
       "      <td>4.075075</td>\n",
       "      <td>0</td>\n",
       "    </tr>\n",
       "  </tbody>\n",
       "</table>\n",
       "</div>"
      ],
      "text/plain": [
       "         ph    Hardness        Solids  Chloramines     Sulfate  Conductivity  \\\n",
       "0       NaN  204.890455  20791.318981     7.300212  368.516441    564.308654   \n",
       "1  3.716080  129.422921  18630.057858     6.635246         NaN    592.885359   \n",
       "2  8.099124  224.236259  19909.541732     9.275884         NaN    418.606213   \n",
       "3  8.316766  214.373394  22018.417441     8.059332  356.886136    363.266516   \n",
       "4  9.092223  181.101509  17978.986339     6.546600  310.135738    398.410813   \n",
       "\n",
       "   Organic_carbon  Trihalomethanes  Turbidity  Potability  \n",
       "0       10.379783        86.990970   2.963135           0  \n",
       "1       15.180013        56.329076   4.500656           0  \n",
       "2       16.868637        66.420093   3.055934           0  \n",
       "3       18.436524       100.341674   4.628771           0  \n",
       "4       11.558279        31.997993   4.075075           0  "
      ]
     },
     "execution_count": 21,
     "metadata": {},
     "output_type": "execute_result"
    }
   ],
   "source": [
    "water_parameters.head()"
   ]
  },
  {
   "cell_type": "markdown",
   "metadata": {},
   "source": [
    "# 1.Data treatment"
   ]
  },
  {
   "cell_type": "code",
   "execution_count": 22,
   "metadata": {},
   "outputs": [
    {
     "data": {
      "text/plain": [
       "ph                 float64\n",
       "Hardness           float64\n",
       "Solids             float64\n",
       "Chloramines        float64\n",
       "Sulfate            float64\n",
       "Conductivity       float64\n",
       "Organic_carbon     float64\n",
       "Trihalomethanes    float64\n",
       "Turbidity          float64\n",
       "Potability           int64\n",
       "dtype: object"
      ]
     },
     "execution_count": 22,
     "metadata": {},
     "output_type": "execute_result"
    }
   ],
   "source": [
    "#check for the types of each column\n",
    "water_parameters.dtypes"
   ]
  },
  {
   "cell_type": "code",
   "execution_count": 23,
   "metadata": {},
   "outputs": [
    {
     "data": {
      "text/plain": [
       "ph                 491\n",
       "Hardness             0\n",
       "Solids               0\n",
       "Chloramines          0\n",
       "Sulfate            781\n",
       "Conductivity         0\n",
       "Organic_carbon       0\n",
       "Trihalomethanes    162\n",
       "Turbidity            0\n",
       "Potability           0\n",
       "dtype: int64"
      ]
     },
     "execution_count": 23,
     "metadata": {},
     "output_type": "execute_result"
    }
   ],
   "source": [
    "#checking for null values\n",
    "water_parameters.isnull().sum()"
   ]
  },
  {
   "cell_type": "code",
   "execution_count": 24,
   "metadata": {},
   "outputs": [
    {
     "data": {
      "text/plain": [
       "(3276, 10)"
      ]
     },
     "execution_count": 24,
     "metadata": {},
     "output_type": "execute_result"
    }
   ],
   "source": [
    "#shows how manny rows and column the dataframe have\n",
    "water_parameters.shape"
   ]
  },
  {
   "cell_type": "code",
   "execution_count": 25,
   "metadata": {},
   "outputs": [
    {
     "data": {
      "text/plain": [
       "array([[<AxesSubplot:title={'center':'ph'}>,\n",
       "        <AxesSubplot:title={'center':'Hardness'}>,\n",
       "        <AxesSubplot:title={'center':'Solids'}>],\n",
       "       [<AxesSubplot:title={'center':'Chloramines'}>,\n",
       "        <AxesSubplot:title={'center':'Sulfate'}>,\n",
       "        <AxesSubplot:title={'center':'Conductivity'}>],\n",
       "       [<AxesSubplot:title={'center':'Organic_carbon'}>,\n",
       "        <AxesSubplot:title={'center':'Trihalomethanes'}>,\n",
       "        <AxesSubplot:title={'center':'Turbidity'}>],\n",
       "       [<AxesSubplot:title={'center':'Potability'}>, <AxesSubplot:>,\n",
       "        <AxesSubplot:>]], dtype=object)"
      ]
     },
     "execution_count": 25,
     "metadata": {},
     "output_type": "execute_result"
    },
    {
     "data": {
      "image/png": "[encoded data removed]",
      "text/plain": [
       "<Figure size 1440x1440 with 12 Axes>"
      ]
     },
     "metadata": {
      "needs_background": "light"
     },
     "output_type": "display_data"
    }
   ],
   "source": [
    "#plots the histogram for each feature in order to understand the distribution of the values\n",
    "water_parameters.hist(figsize=(20,20))"
   ]
  },
  {
   "cell_type": "code",
   "execution_count": 26,
   "metadata": {},
   "outputs": [
    {
     "name": "stdout",
     "output_type": "stream",
     "text": [
      "The percentage of null values in the column ph are 14 %\n",
      "\n",
      "The percentage of null values in the column Sulfate are 23 %\n",
      "\n",
      "The percentage of null values in the column Trihalomethanes are 4 %\n"
     ]
    }
   ],
   "source": [
    "#calculate the percentage of null values in the pH column compared to the total number of rows\n",
    "ph_null = (water_parameters['ph'].isnull().sum()/len(water_parameters) ) *100\n",
    "\n",
    "#calculate the percentage of null values in the Sulfate column compared to the total number of rows\n",
    "sulfate_null = (water_parameters['Sulfate'].isnull().sum()/len(water_parameters) ) *100\n",
    "\n",
    "#calculate the percentage of null values in the Trihalomethanes column compared to the total number of rows\n",
    "trihalo_null = (water_parameters['Trihalomethanes'].isnull().sum()/len(water_parameters) ) *100\n",
    "\n",
    "print('The percentage of null values in the column ph are',int(ph_null),'%\\n')\n",
    "print('The percentage of null values in the column Sulfate are',int(sulfate_null),'%\\n')\n",
    "print('The percentage of null values in the column Trihalomethanes are',int(trihalo_null),'%')"
   ]
  },
  {
   "cell_type": "markdown",
   "metadata": {},
   "source": [
    "# 2.Filling null values"
   ]
  },
  {
   "cell_type": "markdown",
   "metadata": {},
   "source": [
    "The percentage of null values in the columns pH and Sulfate are significative, it will create problems for the model to substitute \n",
    "the values with zeros.\n",
    "\n",
    "A way to solve it is going to be to separate all the rows that have the value zero and one for potability,\n",
    "and then compute the mean or median for each column where the missing values are relevant.\n",
    "For precaution i'm goin to do this for all the columns with missing values even if the column Trihalomethanes only have 4 % null values"
   ]
  },
  {
   "cell_type": "code",
   "execution_count": 27,
   "metadata": {},
   "outputs": [],
   "source": [
    "#selects all the dataframe rows that have  the column potability equal to 1 (potable water)\n",
    "select_potable = water_parameters.loc[water_parameters['Potability'] == 1]\n",
    "\n",
    "#selects all the dataframe rows that have  the column potability equal to 0 (non potable water)\n",
    "select_not_potable = water_parameters.loc[water_parameters['Potability'] == 0]\n"
   ]
  },
  {
   "cell_type": "markdown",
   "metadata": {},
   "source": [
    "# 2.1 Filling null values for potable water"
   ]
  },
  {
   "cell_type": "code",
   "execution_count": 28,
   "metadata": {},
   "outputs": [
    {
     "data": {
      "text/plain": [
       "'columns to fill : ph ; Sulfate ; Trihalomethanes  '"
      ]
     },
     "execution_count": 28,
     "metadata": {},
     "output_type": "execute_result"
    }
   ],
   "source": [
    "\"columns to fill : ph ; Sulfate ; Trihalomethanes  \""
   ]
  },
  {
   "cell_type": "code",
   "execution_count": 29,
   "metadata": {},
   "outputs": [],
   "source": [
    "#based on the histograms above the distribuiton seems close to a normal, the mean to fill the missing values would be a good option\n",
    "ph_mean= select_potable['ph'].mean() \n",
    "select_potable['ph'].fillna(value=ph_mean, inplace=True)\n",
    "\n",
    "ph_mean= select_potable['Sulfate'].mean() \n",
    "select_potable['Sulfate'].fillna(value=ph_mean, inplace=True)\n",
    "\n",
    "ph_mean= select_potable['Trihalomethanes'].mean() \n",
    "select_potable['Trihalomethanes'].fillna(value=ph_mean, inplace=True)"
   ]
  },
  {
   "cell_type": "markdown",
   "metadata": {},
   "source": [
    "# 2.2 Filling null values for non potable water"
   ]
  },
  {
   "cell_type": "code",
   "execution_count": 30,
   "metadata": {},
   "outputs": [
    {
     "data": {
      "text/plain": [
       "'columns to fill : ph ; Sulfate ; Trihalomethanes  '"
      ]
     },
     "execution_count": 30,
     "metadata": {},
     "output_type": "execute_result"
    }
   ],
   "source": [
    "\"columns to fill : ph ; Sulfate ; Trihalomethanes  \""
   ]
  },
  {
   "cell_type": "code",
   "execution_count": 31,
   "metadata": {},
   "outputs": [],
   "source": [
    "# filling missing value using fillna()  \n",
    "ph_mean= select_not_potable['ph'].mean() \n",
    "select_not_potable['ph'].fillna(value=ph_mean, inplace=True)\n",
    "\n",
    "ph_mean= select_not_potable['Sulfate'].median() \n",
    "select_not_potable['Sulfate'].fillna(value=ph_mean, inplace=True)\n",
    "\n",
    "ph_mean= select_not_potable['Trihalomethanes'].median() \n",
    "select_not_potable['Trihalomethanes'].fillna(value=ph_mean, inplace=True)"
   ]
  },
  {
   "cell_type": "markdown",
   "metadata": {},
   "source": [
    "# 2.3 Concatenate the rows for potable water with the ones for non potable water"
   ]
  },
  {
   "cell_type": "code",
   "execution_count": 32,
   "metadata": {},
   "outputs": [],
   "source": [
    "water_df_clean = pd.concat([select_potable, select_not_potable])"
   ]
  },
  {
   "cell_type": "code",
   "execution_count": 33,
   "metadata": {},
   "outputs": [
    {
     "data": {
      "text/plain": [
       "(3276, 10)"
      ]
     },
     "execution_count": 33,
     "metadata": {},
     "output_type": "execute_result"
    }
   ],
   "source": [
    "water_df_clean.shape"
   ]
  },
  {
   "cell_type": "code",
   "execution_count": 34,
   "metadata": {},
   "outputs": [
    {
     "data": {
      "text/plain": [
       "ph                 0\n",
       "Hardness           0\n",
       "Solids             0\n",
       "Chloramines        0\n",
       "Sulfate            0\n",
       "Conductivity       0\n",
       "Organic_carbon     0\n",
       "Trihalomethanes    0\n",
       "Turbidity          0\n",
       "Potability         0\n",
       "dtype: int64"
      ]
     },
     "execution_count": 34,
     "metadata": {},
     "output_type": "execute_result"
    }
   ],
   "source": [
    "water_df_clean.isnull().sum()"
   ]
  },
  {
   "cell_type": "markdown",
   "metadata": {},
   "source": [
    "# Check what model is better"
   ]
  },
  {
   "cell_type": "code",
   "execution_count": 35,
   "metadata": {},
   "outputs": [
    {
     "data": {
      "text/html": [
       "<style  type=\"text/css\" >\n",
       "#T_ef1cd15a_ebf5_11eb_aaee_68545adca4f0row44_col1{\n",
       "            background-color:  lightgreen;\n",
       "        }</style><table id=\"T_ef1cd15a_ebf5_11eb_aaee_68545adca4f0\" ><thead>    <tr>        <th class=\"blank level0\" ></th>        <th class=\"col_heading level0 col0\" >Description</th>        <th class=\"col_heading level0 col1\" >Value</th>    </tr></thead><tbody>\n",
       "                <tr>\n",
       "                        <th id=\"T_ef1cd15a_ebf5_11eb_aaee_68545adca4f0level0_row0\" class=\"row_heading level0 row0\" >0</th>\n",
       "                        <td id=\"T_ef1cd15a_ebf5_11eb_aaee_68545adca4f0row0_col0\" class=\"data row0 col0\" >session_id</td>\n",
       "                        <td id=\"T_ef1cd15a_ebf5_11eb_aaee_68545adca4f0row0_col1\" class=\"data row0 col1\" >3504</td>\n",
       "            </tr>\n",
       "            <tr>\n",
       "                        <th id=\"T_ef1cd15a_ebf5_11eb_aaee_68545adca4f0level0_row1\" class=\"row_heading level0 row1\" >1</th>\n",
       "                        <td id=\"T_ef1cd15a_ebf5_11eb_aaee_68545adca4f0row1_col0\" class=\"data row1 col0\" >Target</td>\n",
       "                        <td id=\"T_ef1cd15a_ebf5_11eb_aaee_68545adca4f0row1_col1\" class=\"data row1 col1\" >Potability</td>\n",
       "            </tr>\n",
       "            <tr>\n",
       "                        <th id=\"T_ef1cd15a_ebf5_11eb_aaee_68545adca4f0level0_row2\" class=\"row_heading level0 row2\" >2</th>\n",
       "                        <td id=\"T_ef1cd15a_ebf5_11eb_aaee_68545adca4f0row2_col0\" class=\"data row2 col0\" >Target Type</td>\n",
       "                        <td id=\"T_ef1cd15a_ebf5_11eb_aaee_68545adca4f0row2_col1\" class=\"data row2 col1\" >Binary</td>\n",
       "            </tr>\n",
       "            <tr>\n",
       "                        <th id=\"T_ef1cd15a_ebf5_11eb_aaee_68545adca4f0level0_row3\" class=\"row_heading level0 row3\" >3</th>\n",
       "                        <td id=\"T_ef1cd15a_ebf5_11eb_aaee_68545adca4f0row3_col0\" class=\"data row3 col0\" >Label Encoded</td>\n",
       "                        <td id=\"T_ef1cd15a_ebf5_11eb_aaee_68545adca4f0row3_col1\" class=\"data row3 col1\" >0: 0, 1: 1</td>\n",
       "            </tr>\n",
       "            <tr>\n",
       "                        <th id=\"T_ef1cd15a_ebf5_11eb_aaee_68545adca4f0level0_row4\" class=\"row_heading level0 row4\" >4</th>\n",
       "                        <td id=\"T_ef1cd15a_ebf5_11eb_aaee_68545adca4f0row4_col0\" class=\"data row4 col0\" >Original Data</td>\n",
       "                        <td id=\"T_ef1cd15a_ebf5_11eb_aaee_68545adca4f0row4_col1\" class=\"data row4 col1\" >(3276, 10)</td>\n",
       "            </tr>\n",
       "            <tr>\n",
       "                        <th id=\"T_ef1cd15a_ebf5_11eb_aaee_68545adca4f0level0_row5\" class=\"row_heading level0 row5\" >5</th>\n",
       "                        <td id=\"T_ef1cd15a_ebf5_11eb_aaee_68545adca4f0row5_col0\" class=\"data row5 col0\" >Missing Values</td>\n",
       "                        <td id=\"T_ef1cd15a_ebf5_11eb_aaee_68545adca4f0row5_col1\" class=\"data row5 col1\" >False</td>\n",
       "            </tr>\n",
       "            <tr>\n",
       "                        <th id=\"T_ef1cd15a_ebf5_11eb_aaee_68545adca4f0level0_row6\" class=\"row_heading level0 row6\" >6</th>\n",
       "                        <td id=\"T_ef1cd15a_ebf5_11eb_aaee_68545adca4f0row6_col0\" class=\"data row6 col0\" >Numeric Features</td>\n",
       "                        <td id=\"T_ef1cd15a_ebf5_11eb_aaee_68545adca4f0row6_col1\" class=\"data row6 col1\" >9</td>\n",
       "            </tr>\n",
       "            <tr>\n",
       "                        <th id=\"T_ef1cd15a_ebf5_11eb_aaee_68545adca4f0level0_row7\" class=\"row_heading level0 row7\" >7</th>\n",
       "                        <td id=\"T_ef1cd15a_ebf5_11eb_aaee_68545adca4f0row7_col0\" class=\"data row7 col0\" >Categorical Features</td>\n",
       "                        <td id=\"T_ef1cd15a_ebf5_11eb_aaee_68545adca4f0row7_col1\" class=\"data row7 col1\" >0</td>\n",
       "            </tr>\n",
       "            <tr>\n",
       "                        <th id=\"T_ef1cd15a_ebf5_11eb_aaee_68545adca4f0level0_row8\" class=\"row_heading level0 row8\" >8</th>\n",
       "                        <td id=\"T_ef1cd15a_ebf5_11eb_aaee_68545adca4f0row8_col0\" class=\"data row8 col0\" >Ordinal Features</td>\n",
       "                        <td id=\"T_ef1cd15a_ebf5_11eb_aaee_68545adca4f0row8_col1\" class=\"data row8 col1\" >False</td>\n",
       "            </tr>\n",
       "            <tr>\n",
       "                        <th id=\"T_ef1cd15a_ebf5_11eb_aaee_68545adca4f0level0_row9\" class=\"row_heading level0 row9\" >9</th>\n",
       "                        <td id=\"T_ef1cd15a_ebf5_11eb_aaee_68545adca4f0row9_col0\" class=\"data row9 col0\" >High Cardinality Features</td>\n",
       "                        <td id=\"T_ef1cd15a_ebf5_11eb_aaee_68545adca4f0row9_col1\" class=\"data row9 col1\" >False</td>\n",
       "            </tr>\n",
       "            <tr>\n",
       "                        <th id=\"T_ef1cd15a_ebf5_11eb_aaee_68545adca4f0level0_row10\" class=\"row_heading level0 row10\" >10</th>\n",
       "                        <td id=\"T_ef1cd15a_ebf5_11eb_aaee_68545adca4f0row10_col0\" class=\"data row10 col0\" >High Cardinality Method</td>\n",
       "                        <td id=\"T_ef1cd15a_ebf5_11eb_aaee_68545adca4f0row10_col1\" class=\"data row10 col1\" >None</td>\n",
       "            </tr>\n",
       "            <tr>\n",
       "                        <th id=\"T_ef1cd15a_ebf5_11eb_aaee_68545adca4f0level0_row11\" class=\"row_heading level0 row11\" >11</th>\n",
       "                        <td id=\"T_ef1cd15a_ebf5_11eb_aaee_68545adca4f0row11_col0\" class=\"data row11 col0\" >Transformed Train Set</td>\n",
       "                        <td id=\"T_ef1cd15a_ebf5_11eb_aaee_68545adca4f0row11_col1\" class=\"data row11 col1\" >(2293, 9)</td>\n",
       "            </tr>\n",
       "            <tr>\n",
       "                        <th id=\"T_ef1cd15a_ebf5_11eb_aaee_68545adca4f0level0_row12\" class=\"row_heading level0 row12\" >12</th>\n",
       "                        <td id=\"T_ef1cd15a_ebf5_11eb_aaee_68545adca4f0row12_col0\" class=\"data row12 col0\" >Transformed Test Set</td>\n",
       "                        <td id=\"T_ef1cd15a_ebf5_11eb_aaee_68545adca4f0row12_col1\" class=\"data row12 col1\" >(983, 9)</td>\n",
       "            </tr>\n",
       "            <tr>\n",
       "                        <th id=\"T_ef1cd15a_ebf5_11eb_aaee_68545adca4f0level0_row13\" class=\"row_heading level0 row13\" >13</th>\n",
       "                        <td id=\"T_ef1cd15a_ebf5_11eb_aaee_68545adca4f0row13_col0\" class=\"data row13 col0\" >Shuffle Train-Test</td>\n",
       "                        <td id=\"T_ef1cd15a_ebf5_11eb_aaee_68545adca4f0row13_col1\" class=\"data row13 col1\" >True</td>\n",
       "            </tr>\n",
       "            <tr>\n",
       "                        <th id=\"T_ef1cd15a_ebf5_11eb_aaee_68545adca4f0level0_row14\" class=\"row_heading level0 row14\" >14</th>\n",
       "                        <td id=\"T_ef1cd15a_ebf5_11eb_aaee_68545adca4f0row14_col0\" class=\"data row14 col0\" >Stratify Train-Test</td>\n",
       "                        <td id=\"T_ef1cd15a_ebf5_11eb_aaee_68545adca4f0row14_col1\" class=\"data row14 col1\" >False</td>\n",
       "            </tr>\n",
       "            <tr>\n",
       "                        <th id=\"T_ef1cd15a_ebf5_11eb_aaee_68545adca4f0level0_row15\" class=\"row_heading level0 row15\" >15</th>\n",
       "                        <td id=\"T_ef1cd15a_ebf5_11eb_aaee_68545adca4f0row15_col0\" class=\"data row15 col0\" >Fold Generator</td>\n",
       "                        <td id=\"T_ef1cd15a_ebf5_11eb_aaee_68545adca4f0row15_col1\" class=\"data row15 col1\" >StratifiedKFold</td>\n",
       "            </tr>\n",
       "            <tr>\n",
       "                        <th id=\"T_ef1cd15a_ebf5_11eb_aaee_68545adca4f0level0_row16\" class=\"row_heading level0 row16\" >16</th>\n",
       "                        <td id=\"T_ef1cd15a_ebf5_11eb_aaee_68545adca4f0row16_col0\" class=\"data row16 col0\" >Fold Number</td>\n",
       "                        <td id=\"T_ef1cd15a_ebf5_11eb_aaee_68545adca4f0row16_col1\" class=\"data row16 col1\" >10</td>\n",
       "            </tr>\n",
       "            <tr>\n",
       "                        <th id=\"T_ef1cd15a_ebf5_11eb_aaee_68545adca4f0level0_row17\" class=\"row_heading level0 row17\" >17</th>\n",
       "                        <td id=\"T_ef1cd15a_ebf5_11eb_aaee_68545adca4f0row17_col0\" class=\"data row17 col0\" >CPU Jobs</td>\n",
       "                        <td id=\"T_ef1cd15a_ebf5_11eb_aaee_68545adca4f0row17_col1\" class=\"data row17 col1\" >-1</td>\n",
       "            </tr>\n",
       "            <tr>\n",
       "                        <th id=\"T_ef1cd15a_ebf5_11eb_aaee_68545adca4f0level0_row18\" class=\"row_heading level0 row18\" >18</th>\n",
       "                        <td id=\"T_ef1cd15a_ebf5_11eb_aaee_68545adca4f0row18_col0\" class=\"data row18 col0\" >Use GPU</td>\n",
       "                        <td id=\"T_ef1cd15a_ebf5_11eb_aaee_68545adca4f0row18_col1\" class=\"data row18 col1\" >False</td>\n",
       "            </tr>\n",
       "            <tr>\n",
       "                        <th id=\"T_ef1cd15a_ebf5_11eb_aaee_68545adca4f0level0_row19\" class=\"row_heading level0 row19\" >19</th>\n",
       "                        <td id=\"T_ef1cd15a_ebf5_11eb_aaee_68545adca4f0row19_col0\" class=\"data row19 col0\" >Log Experiment</td>\n",
       "                        <td id=\"T_ef1cd15a_ebf5_11eb_aaee_68545adca4f0row19_col1\" class=\"data row19 col1\" >False</td>\n",
       "            </tr>\n",
       "            <tr>\n",
       "                        <th id=\"T_ef1cd15a_ebf5_11eb_aaee_68545adca4f0level0_row20\" class=\"row_heading level0 row20\" >20</th>\n",
       "                        <td id=\"T_ef1cd15a_ebf5_11eb_aaee_68545adca4f0row20_col0\" class=\"data row20 col0\" >Experiment Name</td>\n",
       "                        <td id=\"T_ef1cd15a_ebf5_11eb_aaee_68545adca4f0row20_col1\" class=\"data row20 col1\" >clf-default-name</td>\n",
       "            </tr>\n",
       "            <tr>\n",
       "                        <th id=\"T_ef1cd15a_ebf5_11eb_aaee_68545adca4f0level0_row21\" class=\"row_heading level0 row21\" >21</th>\n",
       "                        <td id=\"T_ef1cd15a_ebf5_11eb_aaee_68545adca4f0row21_col0\" class=\"data row21 col0\" >USI</td>\n",
       "                        <td id=\"T_ef1cd15a_ebf5_11eb_aaee_68545adca4f0row21_col1\" class=\"data row21 col1\" >f6a3</td>\n",
       "            </tr>\n",
       "            <tr>\n",
       "                        <th id=\"T_ef1cd15a_ebf5_11eb_aaee_68545adca4f0level0_row22\" class=\"row_heading level0 row22\" >22</th>\n",
       "                        <td id=\"T_ef1cd15a_ebf5_11eb_aaee_68545adca4f0row22_col0\" class=\"data row22 col0\" >Imputation Type</td>\n",
       "                        <td id=\"T_ef1cd15a_ebf5_11eb_aaee_68545adca4f0row22_col1\" class=\"data row22 col1\" >simple</td>\n",
       "            </tr>\n",
       "            <tr>\n",
       "                        <th id=\"T_ef1cd15a_ebf5_11eb_aaee_68545adca4f0level0_row23\" class=\"row_heading level0 row23\" >23</th>\n",
       "                        <td id=\"T_ef1cd15a_ebf5_11eb_aaee_68545adca4f0row23_col0\" class=\"data row23 col0\" >Iterative Imputation Iteration</td>\n",
       "                        <td id=\"T_ef1cd15a_ebf5_11eb_aaee_68545adca4f0row23_col1\" class=\"data row23 col1\" >None</td>\n",
       "            </tr>\n",
       "            <tr>\n",
       "                        <th id=\"T_ef1cd15a_ebf5_11eb_aaee_68545adca4f0level0_row24\" class=\"row_heading level0 row24\" >24</th>\n",
       "                        <td id=\"T_ef1cd15a_ebf5_11eb_aaee_68545adca4f0row24_col0\" class=\"data row24 col0\" >Numeric Imputer</td>\n",
       "                        <td id=\"T_ef1cd15a_ebf5_11eb_aaee_68545adca4f0row24_col1\" class=\"data row24 col1\" >mean</td>\n",
       "            </tr>\n",
       "            <tr>\n",
       "                        <th id=\"T_ef1cd15a_ebf5_11eb_aaee_68545adca4f0level0_row25\" class=\"row_heading level0 row25\" >25</th>\n",
       "                        <td id=\"T_ef1cd15a_ebf5_11eb_aaee_68545adca4f0row25_col0\" class=\"data row25 col0\" >Iterative Imputation Numeric Model</td>\n",
       "                        <td id=\"T_ef1cd15a_ebf5_11eb_aaee_68545adca4f0row25_col1\" class=\"data row25 col1\" >None</td>\n",
       "            </tr>\n",
       "            <tr>\n",
       "                        <th id=\"T_ef1cd15a_ebf5_11eb_aaee_68545adca4f0level0_row26\" class=\"row_heading level0 row26\" >26</th>\n",
       "                        <td id=\"T_ef1cd15a_ebf5_11eb_aaee_68545adca4f0row26_col0\" class=\"data row26 col0\" >Categorical Imputer</td>\n",
       "                        <td id=\"T_ef1cd15a_ebf5_11eb_aaee_68545adca4f0row26_col1\" class=\"data row26 col1\" >constant</td>\n",
       "            </tr>\n",
       "            <tr>\n",
       "                        <th id=\"T_ef1cd15a_ebf5_11eb_aaee_68545adca4f0level0_row27\" class=\"row_heading level0 row27\" >27</th>\n",
       "                        <td id=\"T_ef1cd15a_ebf5_11eb_aaee_68545adca4f0row27_col0\" class=\"data row27 col0\" >Iterative Imputation Categorical Model</td>\n",
       "                        <td id=\"T_ef1cd15a_ebf5_11eb_aaee_68545adca4f0row27_col1\" class=\"data row27 col1\" >None</td>\n",
       "            </tr>\n",
       "            <tr>\n",
       "                        <th id=\"T_ef1cd15a_ebf5_11eb_aaee_68545adca4f0level0_row28\" class=\"row_heading level0 row28\" >28</th>\n",
       "                        <td id=\"T_ef1cd15a_ebf5_11eb_aaee_68545adca4f0row28_col0\" class=\"data row28 col0\" >Unknown Categoricals Handling</td>\n",
       "                        <td id=\"T_ef1cd15a_ebf5_11eb_aaee_68545adca4f0row28_col1\" class=\"data row28 col1\" >least_frequent</td>\n",
       "            </tr>\n",
       "            <tr>\n",
       "                        <th id=\"T_ef1cd15a_ebf5_11eb_aaee_68545adca4f0level0_row29\" class=\"row_heading level0 row29\" >29</th>\n",
       "                        <td id=\"T_ef1cd15a_ebf5_11eb_aaee_68545adca4f0row29_col0\" class=\"data row29 col0\" >Normalize</td>\n",
       "                        <td id=\"T_ef1cd15a_ebf5_11eb_aaee_68545adca4f0row29_col1\" class=\"data row29 col1\" >False</td>\n",
       "            </tr>\n",
       "            <tr>\n",
       "                        <th id=\"T_ef1cd15a_ebf5_11eb_aaee_68545adca4f0level0_row30\" class=\"row_heading level0 row30\" >30</th>\n",
       "                        <td id=\"T_ef1cd15a_ebf5_11eb_aaee_68545adca4f0row30_col0\" class=\"data row30 col0\" >Normalize Method</td>\n",
       "                        <td id=\"T_ef1cd15a_ebf5_11eb_aaee_68545adca4f0row30_col1\" class=\"data row30 col1\" >None</td>\n",
       "            </tr>\n",
       "            <tr>\n",
       "                        <th id=\"T_ef1cd15a_ebf5_11eb_aaee_68545adca4f0level0_row31\" class=\"row_heading level0 row31\" >31</th>\n",
       "                        <td id=\"T_ef1cd15a_ebf5_11eb_aaee_68545adca4f0row31_col0\" class=\"data row31 col0\" >Transformation</td>\n",
       "                        <td id=\"T_ef1cd15a_ebf5_11eb_aaee_68545adca4f0row31_col1\" class=\"data row31 col1\" >False</td>\n",
       "            </tr>\n",
       "            <tr>\n",
       "                        <th id=\"T_ef1cd15a_ebf5_11eb_aaee_68545adca4f0level0_row32\" class=\"row_heading level0 row32\" >32</th>\n",
       "                        <td id=\"T_ef1cd15a_ebf5_11eb_aaee_68545adca4f0row32_col0\" class=\"data row32 col0\" >Transformation Method</td>\n",
       "                        <td id=\"T_ef1cd15a_ebf5_11eb_aaee_68545adca4f0row32_col1\" class=\"data row32 col1\" >None</td>\n",
       "            </tr>\n",
       "            <tr>\n",
       "                        <th id=\"T_ef1cd15a_ebf5_11eb_aaee_68545adca4f0level0_row33\" class=\"row_heading level0 row33\" >33</th>\n",
       "                        <td id=\"T_ef1cd15a_ebf5_11eb_aaee_68545adca4f0row33_col0\" class=\"data row33 col0\" >PCA</td>\n",
       "                        <td id=\"T_ef1cd15a_ebf5_11eb_aaee_68545adca4f0row33_col1\" class=\"data row33 col1\" >False</td>\n",
       "            </tr>\n",
       "            <tr>\n",
       "                        <th id=\"T_ef1cd15a_ebf5_11eb_aaee_68545adca4f0level0_row34\" class=\"row_heading level0 row34\" >34</th>\n",
       "                        <td id=\"T_ef1cd15a_ebf5_11eb_aaee_68545adca4f0row34_col0\" class=\"data row34 col0\" >PCA Method</td>\n",
       "                        <td id=\"T_ef1cd15a_ebf5_11eb_aaee_68545adca4f0row34_col1\" class=\"data row34 col1\" >None</td>\n",
       "            </tr>\n",
       "            <tr>\n",
       "                        <th id=\"T_ef1cd15a_ebf5_11eb_aaee_68545adca4f0level0_row35\" class=\"row_heading level0 row35\" >35</th>\n",
       "                        <td id=\"T_ef1cd15a_ebf5_11eb_aaee_68545adca4f0row35_col0\" class=\"data row35 col0\" >PCA Components</td>\n",
       "                        <td id=\"T_ef1cd15a_ebf5_11eb_aaee_68545adca4f0row35_col1\" class=\"data row35 col1\" >None</td>\n",
       "            </tr>\n",
       "            <tr>\n",
       "                        <th id=\"T_ef1cd15a_ebf5_11eb_aaee_68545adca4f0level0_row36\" class=\"row_heading level0 row36\" >36</th>\n",
       "                        <td id=\"T_ef1cd15a_ebf5_11eb_aaee_68545adca4f0row36_col0\" class=\"data row36 col0\" >Ignore Low Variance</td>\n",
       "                        <td id=\"T_ef1cd15a_ebf5_11eb_aaee_68545adca4f0row36_col1\" class=\"data row36 col1\" >False</td>\n",
       "            </tr>\n",
       "            <tr>\n",
       "                        <th id=\"T_ef1cd15a_ebf5_11eb_aaee_68545adca4f0level0_row37\" class=\"row_heading level0 row37\" >37</th>\n",
       "                        <td id=\"T_ef1cd15a_ebf5_11eb_aaee_68545adca4f0row37_col0\" class=\"data row37 col0\" >Combine Rare Levels</td>\n",
       "                        <td id=\"T_ef1cd15a_ebf5_11eb_aaee_68545adca4f0row37_col1\" class=\"data row37 col1\" >False</td>\n",
       "            </tr>\n",
       "            <tr>\n",
       "                        <th id=\"T_ef1cd15a_ebf5_11eb_aaee_68545adca4f0level0_row38\" class=\"row_heading level0 row38\" >38</th>\n",
       "                        <td id=\"T_ef1cd15a_ebf5_11eb_aaee_68545adca4f0row38_col0\" class=\"data row38 col0\" >Rare Level Threshold</td>\n",
       "                        <td id=\"T_ef1cd15a_ebf5_11eb_aaee_68545adca4f0row38_col1\" class=\"data row38 col1\" >None</td>\n",
       "            </tr>\n",
       "            <tr>\n",
       "                        <th id=\"T_ef1cd15a_ebf5_11eb_aaee_68545adca4f0level0_row39\" class=\"row_heading level0 row39\" >39</th>\n",
       "                        <td id=\"T_ef1cd15a_ebf5_11eb_aaee_68545adca4f0row39_col0\" class=\"data row39 col0\" >Numeric Binning</td>\n",
       "                        <td id=\"T_ef1cd15a_ebf5_11eb_aaee_68545adca4f0row39_col1\" class=\"data row39 col1\" >False</td>\n",
       "            </tr>\n",
       "            <tr>\n",
       "                        <th id=\"T_ef1cd15a_ebf5_11eb_aaee_68545adca4f0level0_row40\" class=\"row_heading level0 row40\" >40</th>\n",
       "                        <td id=\"T_ef1cd15a_ebf5_11eb_aaee_68545adca4f0row40_col0\" class=\"data row40 col0\" >Remove Outliers</td>\n",
       "                        <td id=\"T_ef1cd15a_ebf5_11eb_aaee_68545adca4f0row40_col1\" class=\"data row40 col1\" >False</td>\n",
       "            </tr>\n",
       "            <tr>\n",
       "                        <th id=\"T_ef1cd15a_ebf5_11eb_aaee_68545adca4f0level0_row41\" class=\"row_heading level0 row41\" >41</th>\n",
       "                        <td id=\"T_ef1cd15a_ebf5_11eb_aaee_68545adca4f0row41_col0\" class=\"data row41 col0\" >Outliers Threshold</td>\n",
       "                        <td id=\"T_ef1cd15a_ebf5_11eb_aaee_68545adca4f0row41_col1\" class=\"data row41 col1\" >None</td>\n",
       "            </tr>\n",
       "            <tr>\n",
       "                        <th id=\"T_ef1cd15a_ebf5_11eb_aaee_68545adca4f0level0_row42\" class=\"row_heading level0 row42\" >42</th>\n",
       "                        <td id=\"T_ef1cd15a_ebf5_11eb_aaee_68545adca4f0row42_col0\" class=\"data row42 col0\" >Remove Multicollinearity</td>\n",
       "                        <td id=\"T_ef1cd15a_ebf5_11eb_aaee_68545adca4f0row42_col1\" class=\"data row42 col1\" >False</td>\n",
       "            </tr>\n",
       "            <tr>\n",
       "                        <th id=\"T_ef1cd15a_ebf5_11eb_aaee_68545adca4f0level0_row43\" class=\"row_heading level0 row43\" >43</th>\n",
       "                        <td id=\"T_ef1cd15a_ebf5_11eb_aaee_68545adca4f0row43_col0\" class=\"data row43 col0\" >Multicollinearity Threshold</td>\n",
       "                        <td id=\"T_ef1cd15a_ebf5_11eb_aaee_68545adca4f0row43_col1\" class=\"data row43 col1\" >None</td>\n",
       "            </tr>\n",
       "            <tr>\n",
       "                        <th id=\"T_ef1cd15a_ebf5_11eb_aaee_68545adca4f0level0_row44\" class=\"row_heading level0 row44\" >44</th>\n",
       "                        <td id=\"T_ef1cd15a_ebf5_11eb_aaee_68545adca4f0row44_col0\" class=\"data row44 col0\" >Remove Perfect Collinearity</td>\n",
       "                        <td id=\"T_ef1cd15a_ebf5_11eb_aaee_68545adca4f0row44_col1\" class=\"data row44 col1\" >True</td>\n",
       "            </tr>\n",
       "            <tr>\n",
       "                        <th id=\"T_ef1cd15a_ebf5_11eb_aaee_68545adca4f0level0_row45\" class=\"row_heading level0 row45\" >45</th>\n",
       "                        <td id=\"T_ef1cd15a_ebf5_11eb_aaee_68545adca4f0row45_col0\" class=\"data row45 col0\" >Clustering</td>\n",
       "                        <td id=\"T_ef1cd15a_ebf5_11eb_aaee_68545adca4f0row45_col1\" class=\"data row45 col1\" >False</td>\n",
       "            </tr>\n",
       "            <tr>\n",
       "                        <th id=\"T_ef1cd15a_ebf5_11eb_aaee_68545adca4f0level0_row46\" class=\"row_heading level0 row46\" >46</th>\n",
       "                        <td id=\"T_ef1cd15a_ebf5_11eb_aaee_68545adca4f0row46_col0\" class=\"data row46 col0\" >Clustering Iteration</td>\n",
       "                        <td id=\"T_ef1cd15a_ebf5_11eb_aaee_68545adca4f0row46_col1\" class=\"data row46 col1\" >None</td>\n",
       "            </tr>\n",
       "            <tr>\n",
       "                        <th id=\"T_ef1cd15a_ebf5_11eb_aaee_68545adca4f0level0_row47\" class=\"row_heading level0 row47\" >47</th>\n",
       "                        <td id=\"T_ef1cd15a_ebf5_11eb_aaee_68545adca4f0row47_col0\" class=\"data row47 col0\" >Polynomial Features</td>\n",
       "                        <td id=\"T_ef1cd15a_ebf5_11eb_aaee_68545adca4f0row47_col1\" class=\"data row47 col1\" >False</td>\n",
       "            </tr>\n",
       "            <tr>\n",
       "                        <th id=\"T_ef1cd15a_ebf5_11eb_aaee_68545adca4f0level0_row48\" class=\"row_heading level0 row48\" >48</th>\n",
       "                        <td id=\"T_ef1cd15a_ebf5_11eb_aaee_68545adca4f0row48_col0\" class=\"data row48 col0\" >Polynomial Degree</td>\n",
       "                        <td id=\"T_ef1cd15a_ebf5_11eb_aaee_68545adca4f0row48_col1\" class=\"data row48 col1\" >None</td>\n",
       "            </tr>\n",
       "            <tr>\n",
       "                        <th id=\"T_ef1cd15a_ebf5_11eb_aaee_68545adca4f0level0_row49\" class=\"row_heading level0 row49\" >49</th>\n",
       "                        <td id=\"T_ef1cd15a_ebf5_11eb_aaee_68545adca4f0row49_col0\" class=\"data row49 col0\" >Trignometry Features</td>\n",
       "                        <td id=\"T_ef1cd15a_ebf5_11eb_aaee_68545adca4f0row49_col1\" class=\"data row49 col1\" >False</td>\n",
       "            </tr>\n",
       "            <tr>\n",
       "                        <th id=\"T_ef1cd15a_ebf5_11eb_aaee_68545adca4f0level0_row50\" class=\"row_heading level0 row50\" >50</th>\n",
       "                        <td id=\"T_ef1cd15a_ebf5_11eb_aaee_68545adca4f0row50_col0\" class=\"data row50 col0\" >Polynomial Threshold</td>\n",
       "                        <td id=\"T_ef1cd15a_ebf5_11eb_aaee_68545adca4f0row50_col1\" class=\"data row50 col1\" >None</td>\n",
       "            </tr>\n",
       "            <tr>\n",
       "                        <th id=\"T_ef1cd15a_ebf5_11eb_aaee_68545adca4f0level0_row51\" class=\"row_heading level0 row51\" >51</th>\n",
       "                        <td id=\"T_ef1cd15a_ebf5_11eb_aaee_68545adca4f0row51_col0\" class=\"data row51 col0\" >Group Features</td>\n",
       "                        <td id=\"T_ef1cd15a_ebf5_11eb_aaee_68545adca4f0row51_col1\" class=\"data row51 col1\" >False</td>\n",
       "            </tr>\n",
       "            <tr>\n",
       "                        <th id=\"T_ef1cd15a_ebf5_11eb_aaee_68545adca4f0level0_row52\" class=\"row_heading level0 row52\" >52</th>\n",
       "                        <td id=\"T_ef1cd15a_ebf5_11eb_aaee_68545adca4f0row52_col0\" class=\"data row52 col0\" >Feature Selection</td>\n",
       "                        <td id=\"T_ef1cd15a_ebf5_11eb_aaee_68545adca4f0row52_col1\" class=\"data row52 col1\" >False</td>\n",
       "            </tr>\n",
       "            <tr>\n",
       "                        <th id=\"T_ef1cd15a_ebf5_11eb_aaee_68545adca4f0level0_row53\" class=\"row_heading level0 row53\" >53</th>\n",
       "                        <td id=\"T_ef1cd15a_ebf5_11eb_aaee_68545adca4f0row53_col0\" class=\"data row53 col0\" >Feature Selection Method</td>\n",
       "                        <td id=\"T_ef1cd15a_ebf5_11eb_aaee_68545adca4f0row53_col1\" class=\"data row53 col1\" >classic</td>\n",
       "            </tr>\n",
       "            <tr>\n",
       "                        <th id=\"T_ef1cd15a_ebf5_11eb_aaee_68545adca4f0level0_row54\" class=\"row_heading level0 row54\" >54</th>\n",
       "                        <td id=\"T_ef1cd15a_ebf5_11eb_aaee_68545adca4f0row54_col0\" class=\"data row54 col0\" >Features Selection Threshold</td>\n",
       "                        <td id=\"T_ef1cd15a_ebf5_11eb_aaee_68545adca4f0row54_col1\" class=\"data row54 col1\" >None</td>\n",
       "            </tr>\n",
       "            <tr>\n",
       "                        <th id=\"T_ef1cd15a_ebf5_11eb_aaee_68545adca4f0level0_row55\" class=\"row_heading level0 row55\" >55</th>\n",
       "                        <td id=\"T_ef1cd15a_ebf5_11eb_aaee_68545adca4f0row55_col0\" class=\"data row55 col0\" >Feature Interaction</td>\n",
       "                        <td id=\"T_ef1cd15a_ebf5_11eb_aaee_68545adca4f0row55_col1\" class=\"data row55 col1\" >False</td>\n",
       "            </tr>\n",
       "            <tr>\n",
       "                        <th id=\"T_ef1cd15a_ebf5_11eb_aaee_68545adca4f0level0_row56\" class=\"row_heading level0 row56\" >56</th>\n",
       "                        <td id=\"T_ef1cd15a_ebf5_11eb_aaee_68545adca4f0row56_col0\" class=\"data row56 col0\" >Feature Ratio</td>\n",
       "                        <td id=\"T_ef1cd15a_ebf5_11eb_aaee_68545adca4f0row56_col1\" class=\"data row56 col1\" >False</td>\n",
       "            </tr>\n",
       "            <tr>\n",
       "                        <th id=\"T_ef1cd15a_ebf5_11eb_aaee_68545adca4f0level0_row57\" class=\"row_heading level0 row57\" >57</th>\n",
       "                        <td id=\"T_ef1cd15a_ebf5_11eb_aaee_68545adca4f0row57_col0\" class=\"data row57 col0\" >Interaction Threshold</td>\n",
       "                        <td id=\"T_ef1cd15a_ebf5_11eb_aaee_68545adca4f0row57_col1\" class=\"data row57 col1\" >None</td>\n",
       "            </tr>\n",
       "            <tr>\n",
       "                        <th id=\"T_ef1cd15a_ebf5_11eb_aaee_68545adca4f0level0_row58\" class=\"row_heading level0 row58\" >58</th>\n",
       "                        <td id=\"T_ef1cd15a_ebf5_11eb_aaee_68545adca4f0row58_col0\" class=\"data row58 col0\" >Fix Imbalance</td>\n",
       "                        <td id=\"T_ef1cd15a_ebf5_11eb_aaee_68545adca4f0row58_col1\" class=\"data row58 col1\" >False</td>\n",
       "            </tr>\n",
       "            <tr>\n",
       "                        <th id=\"T_ef1cd15a_ebf5_11eb_aaee_68545adca4f0level0_row59\" class=\"row_heading level0 row59\" >59</th>\n",
       "                        <td id=\"T_ef1cd15a_ebf5_11eb_aaee_68545adca4f0row59_col0\" class=\"data row59 col0\" >Fix Imbalance Method</td>\n",
       "                        <td id=\"T_ef1cd15a_ebf5_11eb_aaee_68545adca4f0row59_col1\" class=\"data row59 col1\" >SMOTE</td>\n",
       "            </tr>\n",
       "    </tbody></table>"
      ],
      "text/plain": [
       "<pandas.io.formats.style.Styler at 0x14d2c99ad60>"
      ]
     },
     "metadata": {},
     "output_type": "display_data"
    },
    {
     "ename": "AttributeError",
     "evalue": "'Simple_Imputer' object has no attribute 'fill_value_categorical'",
     "output_type": "error",
     "traceback": [
      "\u001b[1;31m---------------------------------------------------------------------------\u001b[0m",
      "\u001b[1;31mAttributeError\u001b[0m                            Traceback (most recent call last)",
      "\u001b[1;32m<ipython-input-35-4fb6b16c29c3>\u001b[0m in \u001b[0;36m<module>\u001b[1;34m\u001b[0m\n\u001b[0;32m      2\u001b[0m \u001b[1;32mfrom\u001b[0m \u001b[0mpycaret\u001b[0m\u001b[1;33m.\u001b[0m\u001b[0mclassification\u001b[0m \u001b[1;32mimport\u001b[0m \u001b[1;33m*\u001b[0m\u001b[1;33m\u001b[0m\u001b[1;33m\u001b[0m\u001b[0m\n\u001b[0;32m      3\u001b[0m \u001b[1;33m\u001b[0m\u001b[0m\n\u001b[1;32m----> 4\u001b[1;33m \u001b[0msetup\u001b[0m\u001b[1;33m(\u001b[0m\u001b[0mdata\u001b[0m\u001b[1;33m=\u001b[0m\u001b[0mwater_df_clean\u001b[0m\u001b[1;33m,\u001b[0m\u001b[0mtarget\u001b[0m\u001b[1;33m=\u001b[0m\u001b[1;34m'Potability'\u001b[0m\u001b[1;33m)\u001b[0m\u001b[1;33m\u001b[0m\u001b[1;33m\u001b[0m\u001b[0m\n\u001b[0m\u001b[0;32m      5\u001b[0m \u001b[1;33m\u001b[0m\u001b[0m\n\u001b[0;32m      6\u001b[0m \u001b[1;31m#the atribute Error can be ignored because it doesn't happen in the google colab and the results are the same!!!!\u001b[0m\u001b[1;33m\u001b[0m\u001b[1;33m\u001b[0m\u001b[1;33m\u001b[0m\u001b[0m\n",
      "\u001b[1;32mC:\\ProgramData\\Anaconda3\\lib\\site-packages\\pycaret\\classification.py\u001b[0m in \u001b[0;36msetup\u001b[1;34m(data, target, train_size, test_data, preprocess, imputation_type, iterative_imputation_iters, categorical_features, categorical_imputation, categorical_iterative_imputer, ordinal_features, high_cardinality_features, high_cardinality_method, numeric_features, numeric_imputation, numeric_iterative_imputer, date_features, ignore_features, normalize, normalize_method, transformation, transformation_method, handle_unknown_categorical, unknown_categorical_method, pca, pca_method, pca_components, ignore_low_variance, combine_rare_levels, rare_level_threshold, bin_numeric_features, remove_outliers, outliers_threshold, remove_multicollinearity, multicollinearity_threshold, remove_perfect_collinearity, create_clusters, cluster_iter, polynomial_features, polynomial_degree, trigonometry_features, polynomial_threshold, group_features, group_names, feature_selection, feature_selection_threshold, feature_selection_method, feature_interaction, feature_ratio, interaction_threshold, fix_imbalance, fix_imbalance_method, data_split_shuffle, data_split_stratify, fold_strategy, fold, fold_shuffle, fold_groups, n_jobs, use_gpu, custom_pipeline, html, session_id, log_experiment, experiment_name, log_plots, log_profile, log_data, silent, verbose, profile, profile_kwargs)\u001b[0m\n\u001b[0;32m    579\u001b[0m         \u001b[0mlog_plots\u001b[0m \u001b[1;33m=\u001b[0m \u001b[1;33m[\u001b[0m\u001b[1;34m\"auc\"\u001b[0m\u001b[1;33m,\u001b[0m \u001b[1;34m\"confusion_matrix\"\u001b[0m\u001b[1;33m,\u001b[0m \u001b[1;34m\"feature\"\u001b[0m\u001b[1;33m]\u001b[0m\u001b[1;33m\u001b[0m\u001b[1;33m\u001b[0m\u001b[0m\n\u001b[0;32m    580\u001b[0m \u001b[1;33m\u001b[0m\u001b[0m\n\u001b[1;32m--> 581\u001b[1;33m     return pycaret.internal.tabular.setup(\n\u001b[0m\u001b[0;32m    582\u001b[0m         \u001b[0mml_usecase\u001b[0m\u001b[1;33m=\u001b[0m\u001b[1;34m\"classification\"\u001b[0m\u001b[1;33m,\u001b[0m\u001b[1;33m\u001b[0m\u001b[1;33m\u001b[0m\u001b[0m\n\u001b[0;32m    583\u001b[0m         \u001b[0mavailable_plots\u001b[0m\u001b[1;33m=\u001b[0m\u001b[0mavailable_plots\u001b[0m\u001b[1;33m,\u001b[0m\u001b[1;33m\u001b[0m\u001b[1;33m\u001b[0m\u001b[0m\n",
      "\u001b[1;32mC:\\ProgramData\\Anaconda3\\lib\\site-packages\\pycaret\\internal\\tabular.py\u001b[0m in \u001b[0;36msetup\u001b[1;34m(data, target, ml_usecase, available_plots, train_size, test_data, preprocess, imputation_type, iterative_imputation_iters, categorical_features, categorical_imputation, categorical_iterative_imputer, ordinal_features, high_cardinality_features, high_cardinality_method, numeric_features, numeric_imputation, numeric_iterative_imputer, date_features, ignore_features, normalize, normalize_method, transformation, transformation_method, handle_unknown_categorical, unknown_categorical_method, pca, pca_method, pca_components, ignore_low_variance, combine_rare_levels, rare_level_threshold, bin_numeric_features, remove_outliers, outliers_threshold, remove_multicollinearity, multicollinearity_threshold, remove_perfect_collinearity, create_clusters, cluster_iter, polynomial_features, polynomial_degree, trigonometry_features, polynomial_threshold, group_features, group_names, feature_selection, feature_selection_threshold, feature_selection_method, feature_interaction, feature_ratio, interaction_threshold, fix_imbalance, fix_imbalance_method, transform_target, transform_target_method, data_split_shuffle, data_split_stratify, fold_strategy, fold, fold_shuffle, fold_groups, n_jobs, use_gpu, custom_pipeline, html, session_id, log_experiment, experiment_name, log_plots, log_profile, log_data, silent, verbose, profile, profile_kwargs, display)\u001b[0m\n\u001b[0;32m   1773\u001b[0m     \u001b[0mlogger\u001b[0m\u001b[1;33m.\u001b[0m\u001b[0minfo\u001b[0m\u001b[1;33m(\u001b[0m\u001b[1;34mf\"display_container: {len(display_container)}\"\u001b[0m\u001b[1;33m)\u001b[0m\u001b[1;33m\u001b[0m\u001b[1;33m\u001b[0m\u001b[0m\n\u001b[0;32m   1774\u001b[0m \u001b[1;33m\u001b[0m\u001b[0m\n\u001b[1;32m-> 1775\u001b[1;33m     \u001b[0mlogger\u001b[0m\u001b[1;33m.\u001b[0m\u001b[0minfo\u001b[0m\u001b[1;33m(\u001b[0m\u001b[0mstr\u001b[0m\u001b[1;33m(\u001b[0m\u001b[0mprep_pipe\u001b[0m\u001b[1;33m)\u001b[0m\u001b[1;33m)\u001b[0m\u001b[1;33m\u001b[0m\u001b[1;33m\u001b[0m\u001b[0m\n\u001b[0m\u001b[0;32m   1776\u001b[0m     \u001b[0mlogger\u001b[0m\u001b[1;33m.\u001b[0m\u001b[0minfo\u001b[0m\u001b[1;33m(\u001b[0m\u001b[1;34m\"setup() succesfully completed......................................\"\u001b[0m\u001b[1;33m)\u001b[0m\u001b[1;33m\u001b[0m\u001b[1;33m\u001b[0m\u001b[0m\n\u001b[0;32m   1777\u001b[0m \u001b[1;33m\u001b[0m\u001b[0m\n",
      "\u001b[1;32mC:\\ProgramData\\Anaconda3\\lib\\site-packages\\sklearn\\base.py\u001b[0m in \u001b[0;36m__repr__\u001b[1;34m(self, N_CHAR_MAX)\u001b[0m\n\u001b[0;32m    258\u001b[0m             n_max_elements_to_show=N_MAX_ELEMENTS_TO_SHOW)\n\u001b[0;32m    259\u001b[0m \u001b[1;33m\u001b[0m\u001b[0m\n\u001b[1;32m--> 260\u001b[1;33m         \u001b[0mrepr_\u001b[0m \u001b[1;33m=\u001b[0m \u001b[0mpp\u001b[0m\u001b[1;33m.\u001b[0m\u001b[0mpformat\u001b[0m\u001b[1;33m(\u001b[0m\u001b[0mself\u001b[0m\u001b[1;33m)\u001b[0m\u001b[1;33m\u001b[0m\u001b[1;33m\u001b[0m\u001b[0m\n\u001b[0m\u001b[0;32m    261\u001b[0m \u001b[1;33m\u001b[0m\u001b[0m\n\u001b[0;32m    262\u001b[0m         \u001b[1;31m# Use bruteforce ellipsis when there are a lot of non-blank characters\u001b[0m\u001b[1;33m\u001b[0m\u001b[1;33m\u001b[0m\u001b[1;33m\u001b[0m\u001b[0m\n",
      "\u001b[1;32mC:\\ProgramData\\Anaconda3\\lib\\pprint.py\u001b[0m in \u001b[0;36mpformat\u001b[1;34m(self, object)\u001b[0m\n\u001b[0;32m    151\u001b[0m     \u001b[1;32mdef\u001b[0m \u001b[0mpformat\u001b[0m\u001b[1;33m(\u001b[0m\u001b[0mself\u001b[0m\u001b[1;33m,\u001b[0m \u001b[0mobject\u001b[0m\u001b[1;33m)\u001b[0m\u001b[1;33m:\u001b[0m\u001b[1;33m\u001b[0m\u001b[1;33m\u001b[0m\u001b[0m\n\u001b[0;32m    152\u001b[0m         \u001b[0msio\u001b[0m \u001b[1;33m=\u001b[0m \u001b[0m_StringIO\u001b[0m\u001b[1;33m(\u001b[0m\u001b[1;33m)\u001b[0m\u001b[1;33m\u001b[0m\u001b[1;33m\u001b[0m\u001b[0m\n\u001b[1;32m--> 153\u001b[1;33m         \u001b[0mself\u001b[0m\u001b[1;33m.\u001b[0m\u001b[0m_format\u001b[0m\u001b[1;33m(\u001b[0m\u001b[0mobject\u001b[0m\u001b[1;33m,\u001b[0m \u001b[0msio\u001b[0m\u001b[1;33m,\u001b[0m \u001b[1;36m0\u001b[0m\u001b[1;33m,\u001b[0m \u001b[1;36m0\u001b[0m\u001b[1;33m,\u001b[0m \u001b[1;33m{\u001b[0m\u001b[1;33m}\u001b[0m\u001b[1;33m,\u001b[0m \u001b[1;36m0\u001b[0m\u001b[1;33m)\u001b[0m\u001b[1;33m\u001b[0m\u001b[1;33m\u001b[0m\u001b[0m\n\u001b[0m\u001b[0;32m    154\u001b[0m         \u001b[1;32mreturn\u001b[0m \u001b[0msio\u001b[0m\u001b[1;33m.\u001b[0m\u001b[0mgetvalue\u001b[0m\u001b[1;33m(\u001b[0m\u001b[1;33m)\u001b[0m\u001b[1;33m\u001b[0m\u001b[1;33m\u001b[0m\u001b[0m\n\u001b[0;32m    155\u001b[0m \u001b[1;33m\u001b[0m\u001b[0m\n",
      "\u001b[1;32mC:\\ProgramData\\Anaconda3\\lib\\pprint.py\u001b[0m in \u001b[0;36m_format\u001b[1;34m(self, object, stream, indent, allowance, context, level)\u001b[0m\n\u001b[0;32m    168\u001b[0m             \u001b[0mself\u001b[0m\u001b[1;33m.\u001b[0m\u001b[0m_readable\u001b[0m \u001b[1;33m=\u001b[0m \u001b[1;32mFalse\u001b[0m\u001b[1;33m\u001b[0m\u001b[1;33m\u001b[0m\u001b[0m\n\u001b[0;32m    169\u001b[0m             \u001b[1;32mreturn\u001b[0m\u001b[1;33m\u001b[0m\u001b[1;33m\u001b[0m\u001b[0m\n\u001b[1;32m--> 170\u001b[1;33m         \u001b[0mrep\u001b[0m \u001b[1;33m=\u001b[0m \u001b[0mself\u001b[0m\u001b[1;33m.\u001b[0m\u001b[0m_repr\u001b[0m\u001b[1;33m(\u001b[0m\u001b[0mobject\u001b[0m\u001b[1;33m,\u001b[0m \u001b[0mcontext\u001b[0m\u001b[1;33m,\u001b[0m \u001b[0mlevel\u001b[0m\u001b[1;33m)\u001b[0m\u001b[1;33m\u001b[0m\u001b[1;33m\u001b[0m\u001b[0m\n\u001b[0m\u001b[0;32m    171\u001b[0m         \u001b[0mmax_width\u001b[0m \u001b[1;33m=\u001b[0m \u001b[0mself\u001b[0m\u001b[1;33m.\u001b[0m\u001b[0m_width\u001b[0m \u001b[1;33m-\u001b[0m \u001b[0mindent\u001b[0m \u001b[1;33m-\u001b[0m \u001b[0mallowance\u001b[0m\u001b[1;33m\u001b[0m\u001b[1;33m\u001b[0m\u001b[0m\n\u001b[0;32m    172\u001b[0m         \u001b[1;32mif\u001b[0m \u001b[0mlen\u001b[0m\u001b[1;33m(\u001b[0m\u001b[0mrep\u001b[0m\u001b[1;33m)\u001b[0m \u001b[1;33m>\u001b[0m \u001b[0mmax_width\u001b[0m\u001b[1;33m:\u001b[0m\u001b[1;33m\u001b[0m\u001b[1;33m\u001b[0m\u001b[0m\n",
      "\u001b[1;32mC:\\ProgramData\\Anaconda3\\lib\\pprint.py\u001b[0m in \u001b[0;36m_repr\u001b[1;34m(self, object, context, level)\u001b[0m\n\u001b[0;32m    402\u001b[0m \u001b[1;33m\u001b[0m\u001b[0m\n\u001b[0;32m    403\u001b[0m     \u001b[1;32mdef\u001b[0m \u001b[0m_repr\u001b[0m\u001b[1;33m(\u001b[0m\u001b[0mself\u001b[0m\u001b[1;33m,\u001b[0m \u001b[0mobject\u001b[0m\u001b[1;33m,\u001b[0m \u001b[0mcontext\u001b[0m\u001b[1;33m,\u001b[0m \u001b[0mlevel\u001b[0m\u001b[1;33m)\u001b[0m\u001b[1;33m:\u001b[0m\u001b[1;33m\u001b[0m\u001b[1;33m\u001b[0m\u001b[0m\n\u001b[1;32m--> 404\u001b[1;33m         repr, readable, recursive = self.format(object, context.copy(),\n\u001b[0m\u001b[0;32m    405\u001b[0m                                                 self._depth, level)\n\u001b[0;32m    406\u001b[0m         \u001b[1;32mif\u001b[0m \u001b[1;32mnot\u001b[0m \u001b[0mreadable\u001b[0m\u001b[1;33m:\u001b[0m\u001b[1;33m\u001b[0m\u001b[1;33m\u001b[0m\u001b[0m\n",
      "\u001b[1;32mC:\\ProgramData\\Anaconda3\\lib\\site-packages\\sklearn\\utils\\_pprint.py\u001b[0m in \u001b[0;36mformat\u001b[1;34m(self, object, context, maxlevels, level)\u001b[0m\n\u001b[0;32m    178\u001b[0m \u001b[1;33m\u001b[0m\u001b[0m\n\u001b[0;32m    179\u001b[0m     \u001b[1;32mdef\u001b[0m \u001b[0mformat\u001b[0m\u001b[1;33m(\u001b[0m\u001b[0mself\u001b[0m\u001b[1;33m,\u001b[0m \u001b[0mobject\u001b[0m\u001b[1;33m,\u001b[0m \u001b[0mcontext\u001b[0m\u001b[1;33m,\u001b[0m \u001b[0mmaxlevels\u001b[0m\u001b[1;33m,\u001b[0m \u001b[0mlevel\u001b[0m\u001b[1;33m)\u001b[0m\u001b[1;33m:\u001b[0m\u001b[1;33m\u001b[0m\u001b[1;33m\u001b[0m\u001b[0m\n\u001b[1;32m--> 180\u001b[1;33m         return _safe_repr(object, context, maxlevels, level,\n\u001b[0m\u001b[0;32m    181\u001b[0m                           changed_only=self._changed_only)\n\u001b[0;32m    182\u001b[0m \u001b[1;33m\u001b[0m\u001b[0m\n",
      "\u001b[1;32mC:\\ProgramData\\Anaconda3\\lib\\site-packages\\sklearn\\utils\\_pprint.py\u001b[0m in \u001b[0;36m_safe_repr\u001b[1;34m(object, context, maxlevels, level, changed_only)\u001b[0m\n\u001b[0;32m    434\u001b[0m             krepr, kreadable, krecur = saferepr(\n\u001b[0;32m    435\u001b[0m                 k, context, maxlevels, level, changed_only=changed_only)\n\u001b[1;32m--> 436\u001b[1;33m             vrepr, vreadable, vrecur = saferepr(\n\u001b[0m\u001b[0;32m    437\u001b[0m                 v, context, maxlevels, level, changed_only=changed_only)\n\u001b[0;32m    438\u001b[0m             \u001b[0mappend\u001b[0m\u001b[1;33m(\u001b[0m\u001b[1;34m\"%s=%s\"\u001b[0m \u001b[1;33m%\u001b[0m \u001b[1;33m(\u001b[0m\u001b[0mkrepr\u001b[0m\u001b[1;33m.\u001b[0m\u001b[0mstrip\u001b[0m\u001b[1;33m(\u001b[0m\u001b[1;34m\"'\"\u001b[0m\u001b[1;33m)\u001b[0m\u001b[1;33m,\u001b[0m \u001b[0mvrepr\u001b[0m\u001b[1;33m)\u001b[0m\u001b[1;33m)\u001b[0m\u001b[1;33m\u001b[0m\u001b[1;33m\u001b[0m\u001b[0m\n",
      "\u001b[1;32mC:\\ProgramData\\Anaconda3\\lib\\site-packages\\sklearn\\utils\\_pprint.py\u001b[0m in \u001b[0;36m_safe_repr\u001b[1;34m(object, context, maxlevels, level, changed_only)\u001b[0m\n\u001b[0;32m    403\u001b[0m         \u001b[0mlevel\u001b[0m \u001b[1;33m+=\u001b[0m \u001b[1;36m1\u001b[0m\u001b[1;33m\u001b[0m\u001b[1;33m\u001b[0m\u001b[0m\n\u001b[0;32m    404\u001b[0m         \u001b[1;32mfor\u001b[0m \u001b[0mo\u001b[0m \u001b[1;32min\u001b[0m \u001b[0mobject\u001b[0m\u001b[1;33m:\u001b[0m\u001b[1;33m\u001b[0m\u001b[1;33m\u001b[0m\u001b[0m\n\u001b[1;32m--> 405\u001b[1;33m             orepr, oreadable, orecur = _safe_repr(\n\u001b[0m\u001b[0;32m    406\u001b[0m                 o, context, maxlevels, level, changed_only=changed_only)\n\u001b[0;32m    407\u001b[0m             \u001b[0mappend\u001b[0m\u001b[1;33m(\u001b[0m\u001b[0morepr\u001b[0m\u001b[1;33m)\u001b[0m\u001b[1;33m\u001b[0m\u001b[1;33m\u001b[0m\u001b[0m\n",
      "\u001b[1;32mC:\\ProgramData\\Anaconda3\\lib\\site-packages\\sklearn\\utils\\_pprint.py\u001b[0m in \u001b[0;36m_safe_repr\u001b[1;34m(object, context, maxlevels, level, changed_only)\u001b[0m\n\u001b[0;32m    403\u001b[0m         \u001b[0mlevel\u001b[0m \u001b[1;33m+=\u001b[0m \u001b[1;36m1\u001b[0m\u001b[1;33m\u001b[0m\u001b[1;33m\u001b[0m\u001b[0m\n\u001b[0;32m    404\u001b[0m         \u001b[1;32mfor\u001b[0m \u001b[0mo\u001b[0m \u001b[1;32min\u001b[0m \u001b[0mobject\u001b[0m\u001b[1;33m:\u001b[0m\u001b[1;33m\u001b[0m\u001b[1;33m\u001b[0m\u001b[0m\n\u001b[1;32m--> 405\u001b[1;33m             orepr, oreadable, orecur = _safe_repr(\n\u001b[0m\u001b[0;32m    406\u001b[0m                 o, context, maxlevels, level, changed_only=changed_only)\n\u001b[0;32m    407\u001b[0m             \u001b[0mappend\u001b[0m\u001b[1;33m(\u001b[0m\u001b[0morepr\u001b[0m\u001b[1;33m)\u001b[0m\u001b[1;33m\u001b[0m\u001b[1;33m\u001b[0m\u001b[0m\n",
      "\u001b[1;32mC:\\ProgramData\\Anaconda3\\lib\\site-packages\\sklearn\\utils\\_pprint.py\u001b[0m in \u001b[0;36m_safe_repr\u001b[1;34m(object, context, maxlevels, level, changed_only)\u001b[0m\n\u001b[0;32m    425\u001b[0m             \u001b[0mparams\u001b[0m \u001b[1;33m=\u001b[0m \u001b[0m_changed_params\u001b[0m\u001b[1;33m(\u001b[0m\u001b[0mobject\u001b[0m\u001b[1;33m)\u001b[0m\u001b[1;33m\u001b[0m\u001b[1;33m\u001b[0m\u001b[0m\n\u001b[0;32m    426\u001b[0m         \u001b[1;32melse\u001b[0m\u001b[1;33m:\u001b[0m\u001b[1;33m\u001b[0m\u001b[1;33m\u001b[0m\u001b[0m\n\u001b[1;32m--> 427\u001b[1;33m             \u001b[0mparams\u001b[0m \u001b[1;33m=\u001b[0m \u001b[0mobject\u001b[0m\u001b[1;33m.\u001b[0m\u001b[0mget_params\u001b[0m\u001b[1;33m(\u001b[0m\u001b[0mdeep\u001b[0m\u001b[1;33m=\u001b[0m\u001b[1;32mFalse\u001b[0m\u001b[1;33m)\u001b[0m\u001b[1;33m\u001b[0m\u001b[1;33m\u001b[0m\u001b[0m\n\u001b[0m\u001b[0;32m    428\u001b[0m         \u001b[0mcomponents\u001b[0m \u001b[1;33m=\u001b[0m \u001b[1;33m[\u001b[0m\u001b[1;33m]\u001b[0m\u001b[1;33m\u001b[0m\u001b[1;33m\u001b[0m\u001b[0m\n\u001b[0;32m    429\u001b[0m         \u001b[0mappend\u001b[0m \u001b[1;33m=\u001b[0m \u001b[0mcomponents\u001b[0m\u001b[1;33m.\u001b[0m\u001b[0mappend\u001b[0m\u001b[1;33m\u001b[0m\u001b[1;33m\u001b[0m\u001b[0m\n",
      "\u001b[1;32mC:\\ProgramData\\Anaconda3\\lib\\site-packages\\sklearn\\base.py\u001b[0m in \u001b[0;36mget_params\u001b[1;34m(self, deep)\u001b[0m\n\u001b[0;32m    193\u001b[0m         \u001b[0mout\u001b[0m \u001b[1;33m=\u001b[0m \u001b[0mdict\u001b[0m\u001b[1;33m(\u001b[0m\u001b[1;33m)\u001b[0m\u001b[1;33m\u001b[0m\u001b[1;33m\u001b[0m\u001b[0m\n\u001b[0;32m    194\u001b[0m         \u001b[1;32mfor\u001b[0m \u001b[0mkey\u001b[0m \u001b[1;32min\u001b[0m \u001b[0mself\u001b[0m\u001b[1;33m.\u001b[0m\u001b[0m_get_param_names\u001b[0m\u001b[1;33m(\u001b[0m\u001b[1;33m)\u001b[0m\u001b[1;33m:\u001b[0m\u001b[1;33m\u001b[0m\u001b[1;33m\u001b[0m\u001b[0m\n\u001b[1;32m--> 195\u001b[1;33m             \u001b[0mvalue\u001b[0m \u001b[1;33m=\u001b[0m \u001b[0mgetattr\u001b[0m\u001b[1;33m(\u001b[0m\u001b[0mself\u001b[0m\u001b[1;33m,\u001b[0m \u001b[0mkey\u001b[0m\u001b[1;33m)\u001b[0m\u001b[1;33m\u001b[0m\u001b[1;33m\u001b[0m\u001b[0m\n\u001b[0m\u001b[0;32m    196\u001b[0m             \u001b[1;32mif\u001b[0m \u001b[0mdeep\u001b[0m \u001b[1;32mand\u001b[0m \u001b[0mhasattr\u001b[0m\u001b[1;33m(\u001b[0m\u001b[0mvalue\u001b[0m\u001b[1;33m,\u001b[0m \u001b[1;34m'get_params'\u001b[0m\u001b[1;33m)\u001b[0m\u001b[1;33m:\u001b[0m\u001b[1;33m\u001b[0m\u001b[1;33m\u001b[0m\u001b[0m\n\u001b[0;32m    197\u001b[0m                 \u001b[0mdeep_items\u001b[0m \u001b[1;33m=\u001b[0m \u001b[0mvalue\u001b[0m\u001b[1;33m.\u001b[0m\u001b[0mget_params\u001b[0m\u001b[1;33m(\u001b[0m\u001b[1;33m)\u001b[0m\u001b[1;33m.\u001b[0m\u001b[0mitems\u001b[0m\u001b[1;33m(\u001b[0m\u001b[1;33m)\u001b[0m\u001b[1;33m\u001b[0m\u001b[1;33m\u001b[0m\u001b[0m\n",
      "\u001b[1;31mAttributeError\u001b[0m: 'Simple_Imputer' object has no attribute 'fill_value_categorical'"
     ]
    }
   ],
   "source": [
    "#check which is the best model to apply for this database, using pycaret\n",
    "from pycaret.classification import *\n",
    "\n",
    "setup(data=water_df_clean,target='Potability')\n",
    "\n",
    "#the atribute Error can be ignored because it doesn't happen in the google colab and the results are the same!!!!"
   ]
  },
  {
   "cell_type": "code",
   "execution_count": 36,
   "metadata": {},
   "outputs": [
    {
     "data": {
      "text/html": [
       "<style  type=\"text/css\" >\n",
       "    #T_f69f7494_ebf5_11eb_8ead_68545adca4f0 th {\n",
       "          text-align: left;\n",
       "    }#T_f69f7494_ebf5_11eb_8ead_68545adca4f0row0_col0,#T_f69f7494_ebf5_11eb_8ead_68545adca4f0row0_col2,#T_f69f7494_ebf5_11eb_8ead_68545adca4f0row0_col3,#T_f69f7494_ebf5_11eb_8ead_68545adca4f0row1_col0,#T_f69f7494_ebf5_11eb_8ead_68545adca4f0row1_col1,#T_f69f7494_ebf5_11eb_8ead_68545adca4f0row1_col2,#T_f69f7494_ebf5_11eb_8ead_68545adca4f0row1_col3,#T_f69f7494_ebf5_11eb_8ead_68545adca4f0row1_col4,#T_f69f7494_ebf5_11eb_8ead_68545adca4f0row1_col5,#T_f69f7494_ebf5_11eb_8ead_68545adca4f0row1_col6,#T_f69f7494_ebf5_11eb_8ead_68545adca4f0row1_col7,#T_f69f7494_ebf5_11eb_8ead_68545adca4f0row2_col0,#T_f69f7494_ebf5_11eb_8ead_68545adca4f0row2_col1,#T_f69f7494_ebf5_11eb_8ead_68545adca4f0row2_col2,#T_f69f7494_ebf5_11eb_8ead_68545adca4f0row2_col4,#T_f69f7494_ebf5_11eb_8ead_68545adca4f0row2_col5,#T_f69f7494_ebf5_11eb_8ead_68545adca4f0row2_col6,#T_f69f7494_ebf5_11eb_8ead_68545adca4f0row2_col7,#T_f69f7494_ebf5_11eb_8ead_68545adca4f0row3_col0,#T_f69f7494_ebf5_11eb_8ead_68545adca4f0row3_col1,#T_f69f7494_ebf5_11eb_8ead_68545adca4f0row3_col3,#T_f69f7494_ebf5_11eb_8ead_68545adca4f0row3_col4,#T_f69f7494_ebf5_11eb_8ead_68545adca4f0row3_col5,#T_f69f7494_ebf5_11eb_8ead_68545adca4f0row3_col6,#T_f69f7494_ebf5_11eb_8ead_68545adca4f0row3_col7,#T_f69f7494_ebf5_11eb_8ead_68545adca4f0row4_col0,#T_f69f7494_ebf5_11eb_8ead_68545adca4f0row4_col1,#T_f69f7494_ebf5_11eb_8ead_68545adca4f0row4_col2,#T_f69f7494_ebf5_11eb_8ead_68545adca4f0row4_col3,#T_f69f7494_ebf5_11eb_8ead_68545adca4f0row4_col4,#T_f69f7494_ebf5_11eb_8ead_68545adca4f0row4_col5,#T_f69f7494_ebf5_11eb_8ead_68545adca4f0row4_col6,#T_f69f7494_ebf5_11eb_8ead_68545adca4f0row4_col7,#T_f69f7494_ebf5_11eb_8ead_68545adca4f0row5_col0,#T_f69f7494_ebf5_11eb_8ead_68545adca4f0row5_col1,#T_f69f7494_ebf5_11eb_8ead_68545adca4f0row5_col2,#T_f69f7494_ebf5_11eb_8ead_68545adca4f0row5_col3,#T_f69f7494_ebf5_11eb_8ead_68545adca4f0row5_col4,#T_f69f7494_ebf5_11eb_8ead_68545adca4f0row5_col5,#T_f69f7494_ebf5_11eb_8ead_68545adca4f0row5_col6,#T_f69f7494_ebf5_11eb_8ead_68545adca4f0row5_col7,#T_f69f7494_ebf5_11eb_8ead_68545adca4f0row6_col0,#T_f69f7494_ebf5_11eb_8ead_68545adca4f0row6_col1,#T_f69f7494_ebf5_11eb_8ead_68545adca4f0row6_col2,#T_f69f7494_ebf5_11eb_8ead_68545adca4f0row6_col3,#T_f69f7494_ebf5_11eb_8ead_68545adca4f0row6_col4,#T_f69f7494_ebf5_11eb_8ead_68545adca4f0row6_col5,#T_f69f7494_ebf5_11eb_8ead_68545adca4f0row6_col6,#T_f69f7494_ebf5_11eb_8ead_68545adca4f0row6_col7,#T_f69f7494_ebf5_11eb_8ead_68545adca4f0row7_col0,#T_f69f7494_ebf5_11eb_8ead_68545adca4f0row7_col1,#T_f69f7494_ebf5_11eb_8ead_68545adca4f0row7_col2,#T_f69f7494_ebf5_11eb_8ead_68545adca4f0row7_col3,#T_f69f7494_ebf5_11eb_8ead_68545adca4f0row7_col4,#T_f69f7494_ebf5_11eb_8ead_68545adca4f0row7_col5,#T_f69f7494_ebf5_11eb_8ead_68545adca4f0row7_col6,#T_f69f7494_ebf5_11eb_8ead_68545adca4f0row7_col7,#T_f69f7494_ebf5_11eb_8ead_68545adca4f0row8_col0,#T_f69f7494_ebf5_11eb_8ead_68545adca4f0row8_col1,#T_f69f7494_ebf5_11eb_8ead_68545adca4f0row8_col2,#T_f69f7494_ebf5_11eb_8ead_68545adca4f0row8_col3,#T_f69f7494_ebf5_11eb_8ead_68545adca4f0row8_col4,#T_f69f7494_ebf5_11eb_8ead_68545adca4f0row8_col5,#T_f69f7494_ebf5_11eb_8ead_68545adca4f0row8_col6,#T_f69f7494_ebf5_11eb_8ead_68545adca4f0row8_col7,#T_f69f7494_ebf5_11eb_8ead_68545adca4f0row9_col0,#T_f69f7494_ebf5_11eb_8ead_68545adca4f0row9_col1,#T_f69f7494_ebf5_11eb_8ead_68545adca4f0row9_col2,#T_f69f7494_ebf5_11eb_8ead_68545adca4f0row9_col3,#T_f69f7494_ebf5_11eb_8ead_68545adca4f0row9_col4,#T_f69f7494_ebf5_11eb_8ead_68545adca4f0row9_col5,#T_f69f7494_ebf5_11eb_8ead_68545adca4f0row9_col6,#T_f69f7494_ebf5_11eb_8ead_68545adca4f0row9_col7,#T_f69f7494_ebf5_11eb_8ead_68545adca4f0row10_col0,#T_f69f7494_ebf5_11eb_8ead_68545adca4f0row10_col1,#T_f69f7494_ebf5_11eb_8ead_68545adca4f0row10_col2,#T_f69f7494_ebf5_11eb_8ead_68545adca4f0row10_col3,#T_f69f7494_ebf5_11eb_8ead_68545adca4f0row10_col4,#T_f69f7494_ebf5_11eb_8ead_68545adca4f0row10_col5,#T_f69f7494_ebf5_11eb_8ead_68545adca4f0row10_col6,#T_f69f7494_ebf5_11eb_8ead_68545adca4f0row10_col7,#T_f69f7494_ebf5_11eb_8ead_68545adca4f0row11_col0,#T_f69f7494_ebf5_11eb_8ead_68545adca4f0row11_col1,#T_f69f7494_ebf5_11eb_8ead_68545adca4f0row11_col2,#T_f69f7494_ebf5_11eb_8ead_68545adca4f0row11_col3,#T_f69f7494_ebf5_11eb_8ead_68545adca4f0row11_col4,#T_f69f7494_ebf5_11eb_8ead_68545adca4f0row11_col5,#T_f69f7494_ebf5_11eb_8ead_68545adca4f0row11_col6,#T_f69f7494_ebf5_11eb_8ead_68545adca4f0row11_col7,#T_f69f7494_ebf5_11eb_8ead_68545adca4f0row12_col0,#T_f69f7494_ebf5_11eb_8ead_68545adca4f0row12_col1,#T_f69f7494_ebf5_11eb_8ead_68545adca4f0row12_col2,#T_f69f7494_ebf5_11eb_8ead_68545adca4f0row12_col3,#T_f69f7494_ebf5_11eb_8ead_68545adca4f0row12_col4,#T_f69f7494_ebf5_11eb_8ead_68545adca4f0row12_col5,#T_f69f7494_ebf5_11eb_8ead_68545adca4f0row12_col6,#T_f69f7494_ebf5_11eb_8ead_68545adca4f0row12_col7,#T_f69f7494_ebf5_11eb_8ead_68545adca4f0row13_col0,#T_f69f7494_ebf5_11eb_8ead_68545adca4f0row13_col1,#T_f69f7494_ebf5_11eb_8ead_68545adca4f0row13_col2,#T_f69f7494_ebf5_11eb_8ead_68545adca4f0row13_col3,#T_f69f7494_ebf5_11eb_8ead_68545adca4f0row13_col4,#T_f69f7494_ebf5_11eb_8ead_68545adca4f0row13_col5,#T_f69f7494_ebf5_11eb_8ead_68545adca4f0row13_col6,#T_f69f7494_ebf5_11eb_8ead_68545adca4f0row13_col7{\n",
       "            text-align:  left;\n",
       "            text-align:  left;\n",
       "        }#T_f69f7494_ebf5_11eb_8ead_68545adca4f0row0_col1,#T_f69f7494_ebf5_11eb_8ead_68545adca4f0row0_col4,#T_f69f7494_ebf5_11eb_8ead_68545adca4f0row0_col5,#T_f69f7494_ebf5_11eb_8ead_68545adca4f0row0_col6,#T_f69f7494_ebf5_11eb_8ead_68545adca4f0row0_col7,#T_f69f7494_ebf5_11eb_8ead_68545adca4f0row2_col3,#T_f69f7494_ebf5_11eb_8ead_68545adca4f0row3_col2{\n",
       "            text-align:  left;\n",
       "            text-align:  left;\n",
       "            background-color:  yellow;\n",
       "        }#T_f69f7494_ebf5_11eb_8ead_68545adca4f0row0_col8,#T_f69f7494_ebf5_11eb_8ead_68545adca4f0row1_col8,#T_f69f7494_ebf5_11eb_8ead_68545adca4f0row2_col8,#T_f69f7494_ebf5_11eb_8ead_68545adca4f0row3_col8,#T_f69f7494_ebf5_11eb_8ead_68545adca4f0row4_col8,#T_f69f7494_ebf5_11eb_8ead_68545adca4f0row5_col8,#T_f69f7494_ebf5_11eb_8ead_68545adca4f0row6_col8,#T_f69f7494_ebf5_11eb_8ead_68545adca4f0row8_col8,#T_f69f7494_ebf5_11eb_8ead_68545adca4f0row9_col8,#T_f69f7494_ebf5_11eb_8ead_68545adca4f0row12_col8,#T_f69f7494_ebf5_11eb_8ead_68545adca4f0row13_col8{\n",
       "            text-align:  left;\n",
       "            text-align:  left;\n",
       "            background-color:  lightgrey;\n",
       "        }#T_f69f7494_ebf5_11eb_8ead_68545adca4f0row7_col8,#T_f69f7494_ebf5_11eb_8ead_68545adca4f0row10_col8,#T_f69f7494_ebf5_11eb_8ead_68545adca4f0row11_col8{\n",
       "            text-align:  left;\n",
       "            text-align:  left;\n",
       "            background-color:  yellow;\n",
       "            background-color:  lightgrey;\n",
       "        }</style><table id=\"T_f69f7494_ebf5_11eb_8ead_68545adca4f0\" ><thead>    <tr>        <th class=\"blank level0\" ></th>        <th class=\"col_heading level0 col0\" >Model</th>        <th class=\"col_heading level0 col1\" >Accuracy</th>        <th class=\"col_heading level0 col2\" >AUC</th>        <th class=\"col_heading level0 col3\" >Recall</th>        <th class=\"col_heading level0 col4\" >Prec.</th>        <th class=\"col_heading level0 col5\" >F1</th>        <th class=\"col_heading level0 col6\" >Kappa</th>        <th class=\"col_heading level0 col7\" >MCC</th>        <th class=\"col_heading level0 col8\" >TT (Sec)</th>    </tr></thead><tbody>\n",
       "                <tr>\n",
       "                        <th id=\"T_f69f7494_ebf5_11eb_8ead_68545adca4f0level0_row0\" class=\"row_heading level0 row0\" >rf</th>\n",
       "                        <td id=\"T_f69f7494_ebf5_11eb_8ead_68545adca4f0row0_col0\" class=\"data row0 col0\" >Random Forest Classifier</td>\n",
       "                        <td id=\"T_f69f7494_ebf5_11eb_8ead_68545adca4f0row0_col1\" class=\"data row0 col1\" >0.8002</td>\n",
       "                        <td id=\"T_f69f7494_ebf5_11eb_8ead_68545adca4f0row0_col2\" class=\"data row0 col2\" >0.8682</td>\n",
       "                        <td id=\"T_f69f7494_ebf5_11eb_8ead_68545adca4f0row0_col3\" class=\"data row0 col3\" >0.6468</td>\n",
       "                        <td id=\"T_f69f7494_ebf5_11eb_8ead_68545adca4f0row0_col4\" class=\"data row0 col4\" >0.8133</td>\n",
       "                        <td id=\"T_f69f7494_ebf5_11eb_8ead_68545adca4f0row0_col5\" class=\"data row0 col5\" >0.7192</td>\n",
       "                        <td id=\"T_f69f7494_ebf5_11eb_8ead_68545adca4f0row0_col6\" class=\"data row0 col6\" >0.5675</td>\n",
       "                        <td id=\"T_f69f7494_ebf5_11eb_8ead_68545adca4f0row0_col7\" class=\"data row0 col7\" >0.5775</td>\n",
       "                        <td id=\"T_f69f7494_ebf5_11eb_8ead_68545adca4f0row0_col8\" class=\"data row0 col8\" >0.0970</td>\n",
       "            </tr>\n",
       "            <tr>\n",
       "                        <th id=\"T_f69f7494_ebf5_11eb_8ead_68545adca4f0level0_row1\" class=\"row_heading level0 row1\" >lightgbm</th>\n",
       "                        <td id=\"T_f69f7494_ebf5_11eb_8ead_68545adca4f0row1_col0\" class=\"data row1 col0\" >Light Gradient Boosting Machine</td>\n",
       "                        <td id=\"T_f69f7494_ebf5_11eb_8ead_68545adca4f0row1_col1\" class=\"data row1 col1\" >0.7920</td>\n",
       "                        <td id=\"T_f69f7494_ebf5_11eb_8ead_68545adca4f0row1_col2\" class=\"data row1 col2\" >0.8669</td>\n",
       "                        <td id=\"T_f69f7494_ebf5_11eb_8ead_68545adca4f0row1_col3\" class=\"data row1 col3\" >0.6634</td>\n",
       "                        <td id=\"T_f69f7494_ebf5_11eb_8ead_68545adca4f0row1_col4\" class=\"data row1 col4\" >0.7816</td>\n",
       "                        <td id=\"T_f69f7494_ebf5_11eb_8ead_68545adca4f0row1_col5\" class=\"data row1 col5\" >0.7163</td>\n",
       "                        <td id=\"T_f69f7494_ebf5_11eb_8ead_68545adca4f0row1_col6\" class=\"data row1 col6\" >0.5540</td>\n",
       "                        <td id=\"T_f69f7494_ebf5_11eb_8ead_68545adca4f0row1_col7\" class=\"data row1 col7\" >0.5597</td>\n",
       "                        <td id=\"T_f69f7494_ebf5_11eb_8ead_68545adca4f0row1_col8\" class=\"data row1 col8\" >0.1440</td>\n",
       "            </tr>\n",
       "            <tr>\n",
       "                        <th id=\"T_f69f7494_ebf5_11eb_8ead_68545adca4f0level0_row2\" class=\"row_heading level0 row2\" >xgboost</th>\n",
       "                        <td id=\"T_f69f7494_ebf5_11eb_8ead_68545adca4f0row2_col0\" class=\"data row2 col0\" >Extreme Gradient Boosting</td>\n",
       "                        <td id=\"T_f69f7494_ebf5_11eb_8ead_68545adca4f0row2_col1\" class=\"data row2 col1\" >0.7881</td>\n",
       "                        <td id=\"T_f69f7494_ebf5_11eb_8ead_68545adca4f0row2_col2\" class=\"data row2 col2\" >0.8627</td>\n",
       "                        <td id=\"T_f69f7494_ebf5_11eb_8ead_68545adca4f0row2_col3\" class=\"data row2 col3\" >0.6766</td>\n",
       "                        <td id=\"T_f69f7494_ebf5_11eb_8ead_68545adca4f0row2_col4\" class=\"data row2 col4\" >0.7633</td>\n",
       "                        <td id=\"T_f69f7494_ebf5_11eb_8ead_68545adca4f0row2_col5\" class=\"data row2 col5\" >0.7163</td>\n",
       "                        <td id=\"T_f69f7494_ebf5_11eb_8ead_68545adca4f0row2_col6\" class=\"data row2 col6\" >0.5483</td>\n",
       "                        <td id=\"T_f69f7494_ebf5_11eb_8ead_68545adca4f0row2_col7\" class=\"data row2 col7\" >0.5517</td>\n",
       "                        <td id=\"T_f69f7494_ebf5_11eb_8ead_68545adca4f0row2_col8\" class=\"data row2 col8\" >0.1830</td>\n",
       "            </tr>\n",
       "            <tr>\n",
       "                        <th id=\"T_f69f7494_ebf5_11eb_8ead_68545adca4f0level0_row3\" class=\"row_heading level0 row3\" >gbc</th>\n",
       "                        <td id=\"T_f69f7494_ebf5_11eb_8ead_68545adca4f0row3_col0\" class=\"data row3 col0\" >Gradient Boosting Classifier</td>\n",
       "                        <td id=\"T_f69f7494_ebf5_11eb_8ead_68545adca4f0row3_col1\" class=\"data row3 col1\" >0.7832</td>\n",
       "                        <td id=\"T_f69f7494_ebf5_11eb_8ead_68545adca4f0row3_col2\" class=\"data row3 col2\" >0.8722</td>\n",
       "                        <td id=\"T_f69f7494_ebf5_11eb_8ead_68545adca4f0row3_col3\" class=\"data row3 col3\" >0.6028</td>\n",
       "                        <td id=\"T_f69f7494_ebf5_11eb_8ead_68545adca4f0row3_col4\" class=\"data row3 col4\" >0.8022</td>\n",
       "                        <td id=\"T_f69f7494_ebf5_11eb_8ead_68545adca4f0row3_col5\" class=\"data row3 col5\" >0.6872</td>\n",
       "                        <td id=\"T_f69f7494_ebf5_11eb_8ead_68545adca4f0row3_col6\" class=\"data row3 col6\" >0.5267</td>\n",
       "                        <td id=\"T_f69f7494_ebf5_11eb_8ead_68545adca4f0row3_col7\" class=\"data row3 col7\" >0.5400</td>\n",
       "                        <td id=\"T_f69f7494_ebf5_11eb_8ead_68545adca4f0row3_col8\" class=\"data row3 col8\" >0.0890</td>\n",
       "            </tr>\n",
       "            <tr>\n",
       "                        <th id=\"T_f69f7494_ebf5_11eb_8ead_68545adca4f0level0_row4\" class=\"row_heading level0 row4\" >ada</th>\n",
       "                        <td id=\"T_f69f7494_ebf5_11eb_8ead_68545adca4f0row4_col0\" class=\"data row4 col0\" >Ada Boost Classifier</td>\n",
       "                        <td id=\"T_f69f7494_ebf5_11eb_8ead_68545adca4f0row4_col1\" class=\"data row4 col1\" >0.7287</td>\n",
       "                        <td id=\"T_f69f7494_ebf5_11eb_8ead_68545adca4f0row4_col2\" class=\"data row4 col2\" >0.8150</td>\n",
       "                        <td id=\"T_f69f7494_ebf5_11eb_8ead_68545adca4f0row4_col3\" class=\"data row4 col3\" >0.5247</td>\n",
       "                        <td id=\"T_f69f7494_ebf5_11eb_8ead_68545adca4f0row4_col4\" class=\"data row4 col4\" >0.7196</td>\n",
       "                        <td id=\"T_f69f7494_ebf5_11eb_8ead_68545adca4f0row4_col5\" class=\"data row4 col5\" >0.6050</td>\n",
       "                        <td id=\"T_f69f7494_ebf5_11eb_8ead_68545adca4f0row4_col6\" class=\"data row4 col6\" >0.4062</td>\n",
       "                        <td id=\"T_f69f7494_ebf5_11eb_8ead_68545adca4f0row4_col7\" class=\"data row4 col7\" >0.4193</td>\n",
       "                        <td id=\"T_f69f7494_ebf5_11eb_8ead_68545adca4f0row4_col8\" class=\"data row4 col8\" >0.0360</td>\n",
       "            </tr>\n",
       "            <tr>\n",
       "                        <th id=\"T_f69f7494_ebf5_11eb_8ead_68545adca4f0level0_row5\" class=\"row_heading level0 row5\" >dt</th>\n",
       "                        <td id=\"T_f69f7494_ebf5_11eb_8ead_68545adca4f0row5_col0\" class=\"data row5 col0\" >Decision Tree Classifier</td>\n",
       "                        <td id=\"T_f69f7494_ebf5_11eb_8ead_68545adca4f0row5_col1\" class=\"data row5 col1\" >0.7218</td>\n",
       "                        <td id=\"T_f69f7494_ebf5_11eb_8ead_68545adca4f0row5_col2\" class=\"data row5 col2\" >0.7118</td>\n",
       "                        <td id=\"T_f69f7494_ebf5_11eb_8ead_68545adca4f0row5_col3\" class=\"data row5 col3\" >0.6634</td>\n",
       "                        <td id=\"T_f69f7494_ebf5_11eb_8ead_68545adca4f0row5_col4\" class=\"data row5 col4\" >0.6462</td>\n",
       "                        <td id=\"T_f69f7494_ebf5_11eb_8ead_68545adca4f0row5_col5\" class=\"data row5 col5\" >0.6537</td>\n",
       "                        <td id=\"T_f69f7494_ebf5_11eb_8ead_68545adca4f0row5_col6\" class=\"data row5 col6\" >0.4214</td>\n",
       "                        <td id=\"T_f69f7494_ebf5_11eb_8ead_68545adca4f0row5_col7\" class=\"data row5 col7\" >0.4225</td>\n",
       "                        <td id=\"T_f69f7494_ebf5_11eb_8ead_68545adca4f0row5_col8\" class=\"data row5 col8\" >0.0090</td>\n",
       "            </tr>\n",
       "            <tr>\n",
       "                        <th id=\"T_f69f7494_ebf5_11eb_8ead_68545adca4f0level0_row6\" class=\"row_heading level0 row6\" >et</th>\n",
       "                        <td id=\"T_f69f7494_ebf5_11eb_8ead_68545adca4f0row6_col0\" class=\"data row6 col0\" >Extra Trees Classifier</td>\n",
       "                        <td id=\"T_f69f7494_ebf5_11eb_8ead_68545adca4f0row6_col1\" class=\"data row6 col1\" >0.6760</td>\n",
       "                        <td id=\"T_f69f7494_ebf5_11eb_8ead_68545adca4f0row6_col2\" class=\"data row6 col2\" >0.7221</td>\n",
       "                        <td id=\"T_f69f7494_ebf5_11eb_8ead_68545adca4f0row6_col3\" class=\"data row6 col3\" >0.3564</td>\n",
       "                        <td id=\"T_f69f7494_ebf5_11eb_8ead_68545adca4f0row6_col4\" class=\"data row6 col4\" >0.6720</td>\n",
       "                        <td id=\"T_f69f7494_ebf5_11eb_8ead_68545adca4f0row6_col5\" class=\"data row6 col5\" >0.4641</td>\n",
       "                        <td id=\"T_f69f7494_ebf5_11eb_8ead_68545adca4f0row6_col6\" class=\"data row6 col6\" >0.2631</td>\n",
       "                        <td id=\"T_f69f7494_ebf5_11eb_8ead_68545adca4f0row6_col7\" class=\"data row6 col7\" >0.2906</td>\n",
       "                        <td id=\"T_f69f7494_ebf5_11eb_8ead_68545adca4f0row6_col8\" class=\"data row6 col8\" >0.0840</td>\n",
       "            </tr>\n",
       "            <tr>\n",
       "                        <th id=\"T_f69f7494_ebf5_11eb_8ead_68545adca4f0level0_row7\" class=\"row_heading level0 row7\" >qda</th>\n",
       "                        <td id=\"T_f69f7494_ebf5_11eb_8ead_68545adca4f0row7_col0\" class=\"data row7 col0\" >Quadratic Discriminant Analysis</td>\n",
       "                        <td id=\"T_f69f7494_ebf5_11eb_8ead_68545adca4f0row7_col1\" class=\"data row7 col1\" >0.6651</td>\n",
       "                        <td id=\"T_f69f7494_ebf5_11eb_8ead_68545adca4f0row7_col2\" class=\"data row7 col2\" >0.6852</td>\n",
       "                        <td id=\"T_f69f7494_ebf5_11eb_8ead_68545adca4f0row7_col3\" class=\"data row7 col3\" >0.3465</td>\n",
       "                        <td id=\"T_f69f7494_ebf5_11eb_8ead_68545adca4f0row7_col4\" class=\"data row7 col4\" >0.6446</td>\n",
       "                        <td id=\"T_f69f7494_ebf5_11eb_8ead_68545adca4f0row7_col5\" class=\"data row7 col5\" >0.4501</td>\n",
       "                        <td id=\"T_f69f7494_ebf5_11eb_8ead_68545adca4f0row7_col6\" class=\"data row7 col6\" >0.2397</td>\n",
       "                        <td id=\"T_f69f7494_ebf5_11eb_8ead_68545adca4f0row7_col7\" class=\"data row7 col7\" >0.2638</td>\n",
       "                        <td id=\"T_f69f7494_ebf5_11eb_8ead_68545adca4f0row7_col8\" class=\"data row7 col8\" >0.0070</td>\n",
       "            </tr>\n",
       "            <tr>\n",
       "                        <th id=\"T_f69f7494_ebf5_11eb_8ead_68545adca4f0level0_row8\" class=\"row_heading level0 row8\" >nb</th>\n",
       "                        <td id=\"T_f69f7494_ebf5_11eb_8ead_68545adca4f0row8_col0\" class=\"data row8 col0\" >Naive Bayes</td>\n",
       "                        <td id=\"T_f69f7494_ebf5_11eb_8ead_68545adca4f0row8_col1\" class=\"data row8 col1\" >0.6184</td>\n",
       "                        <td id=\"T_f69f7494_ebf5_11eb_8ead_68545adca4f0row8_col2\" class=\"data row8 col2\" >0.6047</td>\n",
       "                        <td id=\"T_f69f7494_ebf5_11eb_8ead_68545adca4f0row8_col3\" class=\"data row8 col3\" >0.2387</td>\n",
       "                        <td id=\"T_f69f7494_ebf5_11eb_8ead_68545adca4f0row8_col4\" class=\"data row8 col4\" >0.5443</td>\n",
       "                        <td id=\"T_f69f7494_ebf5_11eb_8ead_68545adca4f0row8_col5\" class=\"data row8 col5\" >0.3313</td>\n",
       "                        <td id=\"T_f69f7494_ebf5_11eb_8ead_68545adca4f0row8_col6\" class=\"data row8 col6\" >0.1178</td>\n",
       "                        <td id=\"T_f69f7494_ebf5_11eb_8ead_68545adca4f0row8_col7\" class=\"data row8 col7\" >0.1378</td>\n",
       "                        <td id=\"T_f69f7494_ebf5_11eb_8ead_68545adca4f0row8_col8\" class=\"data row8 col8\" >0.0080</td>\n",
       "            </tr>\n",
       "            <tr>\n",
       "                        <th id=\"T_f69f7494_ebf5_11eb_8ead_68545adca4f0level0_row9\" class=\"row_heading level0 row9\" >lr</th>\n",
       "                        <td id=\"T_f69f7494_ebf5_11eb_8ead_68545adca4f0row9_col0\" class=\"data row9 col0\" >Logistic Regression</td>\n",
       "                        <td id=\"T_f69f7494_ebf5_11eb_8ead_68545adca4f0row9_col1\" class=\"data row9 col1\" >0.6023</td>\n",
       "                        <td id=\"T_f69f7494_ebf5_11eb_8ead_68545adca4f0row9_col2\" class=\"data row9 col2\" >0.5166</td>\n",
       "                        <td id=\"T_f69f7494_ebf5_11eb_8ead_68545adca4f0row9_col3\" class=\"data row9 col3\" >0.0000</td>\n",
       "                        <td id=\"T_f69f7494_ebf5_11eb_8ead_68545adca4f0row9_col4\" class=\"data row9 col4\" >0.0000</td>\n",
       "                        <td id=\"T_f69f7494_ebf5_11eb_8ead_68545adca4f0row9_col5\" class=\"data row9 col5\" >0.0000</td>\n",
       "                        <td id=\"T_f69f7494_ebf5_11eb_8ead_68545adca4f0row9_col6\" class=\"data row9 col6\" >-0.0026</td>\n",
       "                        <td id=\"T_f69f7494_ebf5_11eb_8ead_68545adca4f0row9_col7\" class=\"data row9 col7\" >-0.0129</td>\n",
       "                        <td id=\"T_f69f7494_ebf5_11eb_8ead_68545adca4f0row9_col8\" class=\"data row9 col8\" >0.0110</td>\n",
       "            </tr>\n",
       "            <tr>\n",
       "                        <th id=\"T_f69f7494_ebf5_11eb_8ead_68545adca4f0level0_row10\" class=\"row_heading level0 row10\" >ridge</th>\n",
       "                        <td id=\"T_f69f7494_ebf5_11eb_8ead_68545adca4f0row10_col0\" class=\"data row10 col0\" >Ridge Classifier</td>\n",
       "                        <td id=\"T_f69f7494_ebf5_11eb_8ead_68545adca4f0row10_col1\" class=\"data row10 col1\" >0.6023</td>\n",
       "                        <td id=\"T_f69f7494_ebf5_11eb_8ead_68545adca4f0row10_col2\" class=\"data row10 col2\" >0.0000</td>\n",
       "                        <td id=\"T_f69f7494_ebf5_11eb_8ead_68545adca4f0row10_col3\" class=\"data row10 col3\" >0.0000</td>\n",
       "                        <td id=\"T_f69f7494_ebf5_11eb_8ead_68545adca4f0row10_col4\" class=\"data row10 col4\" >0.0000</td>\n",
       "                        <td id=\"T_f69f7494_ebf5_11eb_8ead_68545adca4f0row10_col5\" class=\"data row10 col5\" >0.0000</td>\n",
       "                        <td id=\"T_f69f7494_ebf5_11eb_8ead_68545adca4f0row10_col6\" class=\"data row10 col6\" >-0.0026</td>\n",
       "                        <td id=\"T_f69f7494_ebf5_11eb_8ead_68545adca4f0row10_col7\" class=\"data row10 col7\" >-0.0129</td>\n",
       "                        <td id=\"T_f69f7494_ebf5_11eb_8ead_68545adca4f0row10_col8\" class=\"data row10 col8\" >0.0070</td>\n",
       "            </tr>\n",
       "            <tr>\n",
       "                        <th id=\"T_f69f7494_ebf5_11eb_8ead_68545adca4f0level0_row11\" class=\"row_heading level0 row11\" >lda</th>\n",
       "                        <td id=\"T_f69f7494_ebf5_11eb_8ead_68545adca4f0row11_col0\" class=\"data row11 col0\" >Linear Discriminant Analysis</td>\n",
       "                        <td id=\"T_f69f7494_ebf5_11eb_8ead_68545adca4f0row11_col1\" class=\"data row11 col1\" >0.6014</td>\n",
       "                        <td id=\"T_f69f7494_ebf5_11eb_8ead_68545adca4f0row11_col2\" class=\"data row11 col2\" >0.5017</td>\n",
       "                        <td id=\"T_f69f7494_ebf5_11eb_8ead_68545adca4f0row11_col3\" class=\"data row11 col3\" >0.0000</td>\n",
       "                        <td id=\"T_f69f7494_ebf5_11eb_8ead_68545adca4f0row11_col4\" class=\"data row11 col4\" >0.0000</td>\n",
       "                        <td id=\"T_f69f7494_ebf5_11eb_8ead_68545adca4f0row11_col5\" class=\"data row11 col5\" >0.0000</td>\n",
       "                        <td id=\"T_f69f7494_ebf5_11eb_8ead_68545adca4f0row11_col6\" class=\"data row11 col6\" >-0.0043</td>\n",
       "                        <td id=\"T_f69f7494_ebf5_11eb_8ead_68545adca4f0row11_col7\" class=\"data row11 col7\" >-0.0200</td>\n",
       "                        <td id=\"T_f69f7494_ebf5_11eb_8ead_68545adca4f0row11_col8\" class=\"data row11 col8\" >0.0070</td>\n",
       "            </tr>\n",
       "            <tr>\n",
       "                        <th id=\"T_f69f7494_ebf5_11eb_8ead_68545adca4f0level0_row12\" class=\"row_heading level0 row12\" >knn</th>\n",
       "                        <td id=\"T_f69f7494_ebf5_11eb_8ead_68545adca4f0row12_col0\" class=\"data row12 col0\" >K Neighbors Classifier</td>\n",
       "                        <td id=\"T_f69f7494_ebf5_11eb_8ead_68545adca4f0row12_col1\" class=\"data row12 col1\" >0.5530</td>\n",
       "                        <td id=\"T_f69f7494_ebf5_11eb_8ead_68545adca4f0row12_col2\" class=\"data row12 col2\" >0.5174</td>\n",
       "                        <td id=\"T_f69f7494_ebf5_11eb_8ead_68545adca4f0row12_col3\" class=\"data row12 col3\" >0.3047</td>\n",
       "                        <td id=\"T_f69f7494_ebf5_11eb_8ead_68545adca4f0row12_col4\" class=\"data row12 col4\" >0.4139</td>\n",
       "                        <td id=\"T_f69f7494_ebf5_11eb_8ead_68545adca4f0row12_col5\" class=\"data row12 col5\" >0.3502</td>\n",
       "                        <td id=\"T_f69f7494_ebf5_11eb_8ead_68545adca4f0row12_col6\" class=\"data row12 col6\" >0.0218</td>\n",
       "                        <td id=\"T_f69f7494_ebf5_11eb_8ead_68545adca4f0row12_col7\" class=\"data row12 col7\" >0.0225</td>\n",
       "                        <td id=\"T_f69f7494_ebf5_11eb_8ead_68545adca4f0row12_col8\" class=\"data row12 col8\" >0.0170</td>\n",
       "            </tr>\n",
       "            <tr>\n",
       "                        <th id=\"T_f69f7494_ebf5_11eb_8ead_68545adca4f0level0_row13\" class=\"row_heading level0 row13\" >svm</th>\n",
       "                        <td id=\"T_f69f7494_ebf5_11eb_8ead_68545adca4f0row13_col0\" class=\"data row13 col0\" >SVM - Linear Kernel</td>\n",
       "                        <td id=\"T_f69f7494_ebf5_11eb_8ead_68545adca4f0row13_col1\" class=\"data row13 col1\" >0.5006</td>\n",
       "                        <td id=\"T_f69f7494_ebf5_11eb_8ead_68545adca4f0row13_col2\" class=\"data row13 col2\" >0.0000</td>\n",
       "                        <td id=\"T_f69f7494_ebf5_11eb_8ead_68545adca4f0row13_col3\" class=\"data row13 col3\" >0.4989</td>\n",
       "                        <td id=\"T_f69f7494_ebf5_11eb_8ead_68545adca4f0row13_col4\" class=\"data row13 col4\" >0.1983</td>\n",
       "                        <td id=\"T_f69f7494_ebf5_11eb_8ead_68545adca4f0row13_col5\" class=\"data row13 col5\" >0.2838</td>\n",
       "                        <td id=\"T_f69f7494_ebf5_11eb_8ead_68545adca4f0row13_col6\" class=\"data row13 col6\" >0.0008</td>\n",
       "                        <td id=\"T_f69f7494_ebf5_11eb_8ead_68545adca4f0row13_col7\" class=\"data row13 col7\" >0.0068</td>\n",
       "                        <td id=\"T_f69f7494_ebf5_11eb_8ead_68545adca4f0row13_col8\" class=\"data row13 col8\" >0.0100</td>\n",
       "            </tr>\n",
       "    </tbody></table>"
      ],
      "text/plain": [
       "<pandas.io.formats.style.Styler at 0x14d2e156df0>"
      ]
     },
     "metadata": {},
     "output_type": "display_data"
    }
   ],
   "source": [
    "best= compare_models()"
   ]
  },
  {
   "cell_type": "code",
   "execution_count": null,
   "metadata": {},
   "outputs": [],
   "source": [
    "#For my choice i'm going to prioritize recall ('Play safe') because it is better to say that the water is not potable and it is \n",
    "#then saying that the water is potable and then it will be a helth issue!!\n",
    "\n",
    "#I can try the Random Forest Classifier and the Decision Tree Classifier"
   ]
  },
  {
   "cell_type": "code",
   "execution_count": 36,
   "metadata": {
    "scrolled": true
   },
   "outputs": [
    {
     "data": {
      "image/png": "[encoded data removed]",
      "text/plain": [
       "<Figure size 1008x1008 with 2 Axes>"
      ]
     },
     "metadata": {
      "needs_background": "light"
     },
     "output_type": "display_data"
    }
   ],
   "source": [
    "#Creates a correlation matrix. \n",
    "# This is shown below. \n",
    "# Only the lower triangular component of the matrix is shown due to the fact that \n",
    "# the upper and lower (triangular) parts of the matrix are equal\n",
    "import matplotlib.pyplot as plt\n",
    "import seaborn as sn\n",
    "import numpy as np\n",
    "\n",
    "corr=np.abs(water_parameters.corr())\n",
    "\n",
    "#Set up mask for triangle representation\n",
    "mask = np.zeros_like(corr, dtype=np.bool)\n",
    "mask[np.triu_indices_from(mask)] = True\n",
    "\n",
    "# Set up the matplotlib figure\n",
    "f, ax = plt.subplots(figsize=(14, 14))\n",
    "# Generate a custom diverging colormap\n",
    "cmap = sn.diverging_palette(220, 10, as_cmap=True)\n",
    "# Draw the heatmap with the mask and correct aspect ratio\n",
    "sn.heatmap(corr, mask=mask,  vmax=1,square=True, linewidths=.5, cbar_kws={\"shrink\": .5},annot = corr)\n",
    "\n",
    "plt.show()"
   ]
  },
  {
   "cell_type": "markdown",
   "metadata": {},
   "source": [
    "# Splitting the target and the features"
   ]
  },
  {
   "cell_type": "code",
   "execution_count": 211,
   "metadata": {},
   "outputs": [],
   "source": [
    "y = water_df_clean['Potability']\n",
    "X = water_df_clean.drop(['Potability'],axis=1)"
   ]
  },
  {
   "cell_type": "code",
   "execution_count": 179,
   "metadata": {},
   "outputs": [],
   "source": [
    "# Creating the train and the test.\n",
    "from sklearn.model_selection import train_test_split\n",
    "#random state equal to 42 because is the Answer to the Ultimate Question of Life (he Hitchhiker's Guide to the Galaxy hehe)\n",
    "#random stare equal to 42 or other number just defines that each time we run it will give the same output\n",
    "X_train, X_test, y_train, y_test = train_test_split(X, y, test_size=None, random_state =42)"
   ]
  },
  {
   "cell_type": "markdown",
   "metadata": {},
   "source": [
    "# 1.Prediction models"
   ]
  },
  {
   "cell_type": "code",
   "execution_count": 52,
   "metadata": {},
   "outputs": [],
   "source": [
    "#I'm going with the Extreme Gradient Boosting because it gives me the best recall"
   ]
  },
  {
   "cell_type": "markdown",
   "metadata": {},
   "source": [
    "## 1.1Extreme Gradient Boosting"
   ]
  },
  {
   "cell_type": "code",
   "execution_count": 180,
   "metadata": {},
   "outputs": [],
   "source": [
    "\n",
    "import pandas as pd # for data manipulation\n",
    "import numpy as np # for data manipulation\n",
    "\n",
    "from sklearn.model_selection import train_test_split # for splitting the data into train and test samples\n",
    "from sklearn.metrics import classification_report # for model evaluation metrics\n",
    "from xgboost import XGBClassifier # for extreme gradient boosting model"
   ]
  },
  {
   "cell_type": "code",
   "execution_count": 181,
   "metadata": {},
   "outputs": [
    {
     "name": "stdout",
     "output_type": "stream",
     "text": [
      "[17:10:52] WARNING: C:/Users/Administrator/workspace/xgboost-win64_release_1.4.0/src/learner.cc:1095: Starting in XGBoost 1.3.0, the default evaluation metric used with the objective 'binary:logistic' was changed from 'error' to 'logloss'. Explicitly set eval_metric if you'd like to restore the old behavior.\n",
      "*************** Tree Summary ***************\n",
      "No. of classes:  2\n",
      "Classes:  [0 1]\n",
      "No. of features:  9\n",
      "No. of Estimators:  100\n",
      "--------------------------------------------------------\n",
      "\n",
      "*************** Evaluation on Test Data ***************\n",
      "Accuracy Score:  0.7469512195121951\n",
      "              precision    recall  f1-score   support\n",
      "\n",
      "           0       0.74      0.88      0.80       385\n",
      "           1       0.76      0.56      0.65       271\n",
      "\n",
      "    accuracy                           0.75       656\n",
      "   macro avg       0.75      0.72      0.73       656\n",
      "weighted avg       0.75      0.75      0.74       656\n",
      "\n",
      "--------------------------------------------------------\n",
      "\n",
      "*************** Evaluation on Training Data ***************\n",
      "Accuracy Score:  0.7290076335877863\n",
      "              precision    recall  f1-score   support\n",
      "\n",
      "           0       0.74      0.86      0.80      1613\n",
      "           1       0.70      0.51      0.59      1007\n",
      "\n",
      "    accuracy                           0.73      2620\n",
      "   macro avg       0.72      0.69      0.70      2620\n",
      "weighted avg       0.73      0.73      0.72      2620\n",
      "\n",
      "--------------------------------------------------------\n"
     ]
    }
   ],
   "source": [
    "def model_training(X, y, n_trees, mdepth, gamma, lam):\n",
    "\n",
    "    ##### Step 1 - Create training and testing samples\n",
    "    X_train, X_test, y_train, y_test = train_test_split(X, y, test_size=0.2, random_state=0)\n",
    "\n",
    "\n",
    "    ##### Step 2 - Set model and its parameters\n",
    "    model = XGBClassifier(use_label_encoder=False, \n",
    "                      booster='gbtree', # boosting algorithm to use, default gbtree, othera: gblinear, dart\n",
    "                      n_estimators=n_trees, # number of trees, default = 100\n",
    "                      eta=0.01, # this is learning rate, default = 0.3\n",
    "                      max_depth=mdepth, # maximum depth of the tree, default = 6\n",
    "                      gamma = gamma, # used for pruning, if gain < gamma the branch will be pruned, default = 0\n",
    "                      reg_lambda = lam, # regularization parameter, defautl = 1\n",
    "                      #min_child_weight=0 # this refers to Cover which is also responsible for pruning if not set to 0\n",
    "                     )\n",
    "\n",
    "    # Fit the model\n",
    "    clf = model.fit(X_train, y_train)\n",
    "\n",
    "\n",
    "    ##### Step 3\n",
    "    # Predict class labels on training data\n",
    "    pred_labels_tr = model.predict(X_train)\n",
    "    # Predict class labels on a test data\n",
    "    pred_labels_te = model.predict(X_test)\n",
    "\n",
    "\n",
    "    ##### Step 4 - Model summary\n",
    "    # Basic info about the model\n",
    "    print('*************** Tree Summary ***************')\n",
    "    print('No. of classes: ', clf.n_classes_)\n",
    "    print('Classes: ', clf.classes_)\n",
    "    print('No. of features: ', clf.n_features_in_)\n",
    "    print('No. of Estimators: ', clf.n_estimators)\n",
    "    print('--------------------------------------------------------')\n",
    "    print(\"\")\n",
    "\n",
    "    print('*************** Evaluation on Test Data ***************')\n",
    "    score_te = model.score(X_test, y_test)\n",
    "    print('Accuracy Score: ', score_te)\n",
    "    # Look at classification report to evaluate the model\n",
    "    print(classification_report(y_test, pred_labels_te))\n",
    "    print('--------------------------------------------------------')\n",
    "    print(\"\")\n",
    "\n",
    "    print('*************** Evaluation on Training Data ***************')\n",
    "    score_tr = model.score(X_train, y_train)\n",
    "    print('Accuracy Score: ', score_tr)\n",
    "    # Look at classification report to evaluate the model\n",
    "    print(classification_report(y_train, pred_labels_tr))\n",
    "    print('--------------------------------------------------------')\n",
    "    \n",
    "    return clf, X_test, y_test\n",
    "\n",
    "\n",
    "##### Step 5 - Select data for modelling and call the function to train the model\n",
    "\n",
    "# Train the model\n",
    "clf, X_test, y_test = model_training(X, y, n_trees=100, mdepth=3, gamma=1, lam=1)"
   ]
  },
  {
   "cell_type": "markdown",
   "metadata": {},
   "source": [
    "\n",
    "## Check for overfitting of the Extreme Gradient Boosting"
   ]
  },
  {
   "cell_type": "code",
   "execution_count": 182,
   "metadata": {},
   "outputs": [
    {
     "name": "stdout",
     "output_type": "stream",
     "text": [
      "[0]\tvalidation_0-error:0.27347\tvalidation_0-logloss:0.68949\tvalidation_1-error:0.27634\tvalidation_1-logloss:0.68948\n",
      "[1]\tvalidation_0-error:0.25160\tvalidation_0-logloss:0.68590\tvalidation_1-error:0.25139\tvalidation_1-logloss:0.68585\n",
      "[2]\tvalidation_0-error:0.25160\tvalidation_0-logloss:0.68238\tvalidation_1-error:0.25139\tvalidation_1-logloss:0.68232\n",
      "[3]\tvalidation_0-error:0.25160\tvalidation_0-logloss:0.67893\tvalidation_1-error:0.25139\tvalidation_1-logloss:0.67883\n",
      "[4]\tvalidation_0-error:0.25160\tvalidation_0-logloss:0.67553\tvalidation_1-error:0.25139\tvalidation_1-logloss:0.67544\n",
      "[5]\tvalidation_0-error:0.25160\tvalidation_0-logloss:0.67221\tvalidation_1-error:0.25139\tvalidation_1-logloss:0.67210\n",
      "[6]\tvalidation_0-error:0.25160\tvalidation_0-logloss:0.66894\tvalidation_1-error:0.25139\tvalidation_1-logloss:0.66880\n",
      "[7]\tvalidation_0-error:0.25160\tvalidation_0-logloss:0.66573\tvalidation_1-error:0.25139\tvalidation_1-logloss:0.66560\n",
      "[8]\tvalidation_0-error:0.25160\tvalidation_0-logloss:0.66258\tvalidation_1-error:0.25139\tvalidation_1-logloss:0.66242\n",
      "[9]\tvalidation_0-error:0.25160\tvalidation_0-logloss:0.65948\tvalidation_1-error:0.25139\tvalidation_1-logloss:0.65931\n",
      "[10]\tvalidation_0-error:0.25160\tvalidation_0-logloss:0.65644\tvalidation_1-error:0.25139\tvalidation_1-logloss:0.65626\n",
      "[11]\tvalidation_0-error:0.25160\tvalidation_0-logloss:0.65345\tvalidation_1-error:0.25139\tvalidation_1-logloss:0.65326\n",
      "[12]\tvalidation_0-error:0.25160\tvalidation_0-logloss:0.65051\tvalidation_1-error:0.25139\tvalidation_1-logloss:0.65033\n",
      "[13]\tvalidation_0-error:0.25160\tvalidation_0-logloss:0.64763\tvalidation_1-error:0.25139\tvalidation_1-logloss:0.64743\n",
      "[14]\tvalidation_0-error:0.25160\tvalidation_0-logloss:0.64479\tvalidation_1-error:0.25139\tvalidation_1-logloss:0.64460\n",
      "[15]\tvalidation_0-error:0.25160\tvalidation_0-logloss:0.64200\tvalidation_1-error:0.25139\tvalidation_1-logloss:0.64180\n",
      "[16]\tvalidation_0-error:0.25160\tvalidation_0-logloss:0.63926\tvalidation_1-error:0.25139\tvalidation_1-logloss:0.63904\n",
      "[17]\tvalidation_0-error:0.25160\tvalidation_0-logloss:0.63657\tvalidation_1-error:0.25139\tvalidation_1-logloss:0.63636\n",
      "[18]\tvalidation_0-error:0.25160\tvalidation_0-logloss:0.63391\tvalidation_1-error:0.25139\tvalidation_1-logloss:0.63374\n",
      "[19]\tvalidation_0-error:0.25160\tvalidation_0-logloss:0.63131\tvalidation_1-error:0.25139\tvalidation_1-logloss:0.63117\n",
      "[20]\tvalidation_0-error:0.25160\tvalidation_0-logloss:0.62875\tvalidation_1-error:0.25139\tvalidation_1-logloss:0.62862\n",
      "[21]\tvalidation_0-error:0.25160\tvalidation_0-logloss:0.62623\tvalidation_1-error:0.25139\tvalidation_1-logloss:0.62613\n",
      "[22]\tvalidation_0-error:0.25160\tvalidation_0-logloss:0.62376\tvalidation_1-error:0.25139\tvalidation_1-logloss:0.62367\n",
      "[23]\tvalidation_0-error:0.25068\tvalidation_0-logloss:0.62131\tvalidation_1-error:0.25139\tvalidation_1-logloss:0.62122\n",
      "[24]\tvalidation_0-error:0.25068\tvalidation_0-logloss:0.61892\tvalidation_1-error:0.25139\tvalidation_1-logloss:0.61884\n",
      "[25]\tvalidation_0-error:0.25068\tvalidation_0-logloss:0.61655\tvalidation_1-error:0.25139\tvalidation_1-logloss:0.61649\n",
      "[26]\tvalidation_0-error:0.25068\tvalidation_0-logloss:0.61424\tvalidation_1-error:0.25139\tvalidation_1-logloss:0.61421\n",
      "[27]\tvalidation_0-error:0.25068\tvalidation_0-logloss:0.61195\tvalidation_1-error:0.25139\tvalidation_1-logloss:0.61196\n",
      "[28]\tvalidation_0-error:0.25068\tvalidation_0-logloss:0.60971\tvalidation_1-error:0.25139\tvalidation_1-logloss:0.60973\n",
      "[29]\tvalidation_0-error:0.24932\tvalidation_0-logloss:0.60749\tvalidation_1-error:0.25508\tvalidation_1-logloss:0.60753\n",
      "[30]\tvalidation_0-error:0.23154\tvalidation_0-logloss:0.60531\tvalidation_1-error:0.24584\tvalidation_1-logloss:0.60539\n",
      "[31]\tvalidation_0-error:0.23154\tvalidation_0-logloss:0.60318\tvalidation_1-error:0.24584\tvalidation_1-logloss:0.60329\n",
      "[32]\tvalidation_0-error:0.23154\tvalidation_0-logloss:0.60106\tvalidation_1-error:0.24677\tvalidation_1-logloss:0.60122\n",
      "[33]\tvalidation_0-error:0.23154\tvalidation_0-logloss:0.59898\tvalidation_1-error:0.24677\tvalidation_1-logloss:0.59916\n",
      "[34]\tvalidation_0-error:0.23154\tvalidation_0-logloss:0.59692\tvalidation_1-error:0.24769\tvalidation_1-logloss:0.59713\n",
      "[35]\tvalidation_0-error:0.23154\tvalidation_0-logloss:0.59491\tvalidation_1-error:0.24677\tvalidation_1-logloss:0.59514\n",
      "[36]\tvalidation_0-error:0.23154\tvalidation_0-logloss:0.59293\tvalidation_1-error:0.24769\tvalidation_1-logloss:0.59317\n",
      "[37]\tvalidation_0-error:0.23154\tvalidation_0-logloss:0.59098\tvalidation_1-error:0.24769\tvalidation_1-logloss:0.59126\n",
      "[38]\tvalidation_0-error:0.23109\tvalidation_0-logloss:0.58905\tvalidation_1-error:0.24677\tvalidation_1-logloss:0.58934\n",
      "[39]\tvalidation_0-error:0.23109\tvalidation_0-logloss:0.58712\tvalidation_1-error:0.24584\tvalidation_1-logloss:0.58746\n",
      "[40]\tvalidation_0-error:0.23154\tvalidation_0-logloss:0.58525\tvalidation_1-error:0.24769\tvalidation_1-logloss:0.58559\n",
      "[41]\tvalidation_0-error:0.23154\tvalidation_0-logloss:0.58339\tvalidation_1-error:0.24769\tvalidation_1-logloss:0.58379\n",
      "[42]\tvalidation_0-error:0.23154\tvalidation_0-logloss:0.58157\tvalidation_1-error:0.24769\tvalidation_1-logloss:0.58200\n",
      "[43]\tvalidation_0-error:0.23109\tvalidation_0-logloss:0.57978\tvalidation_1-error:0.24677\tvalidation_1-logloss:0.58023\n",
      "[44]\tvalidation_0-error:0.23109\tvalidation_0-logloss:0.57801\tvalidation_1-error:0.24677\tvalidation_1-logloss:0.57849\n",
      "[45]\tvalidation_0-error:0.23154\tvalidation_0-logloss:0.57627\tvalidation_1-error:0.24769\tvalidation_1-logloss:0.57675\n",
      "[46]\tvalidation_0-error:0.23154\tvalidation_0-logloss:0.57454\tvalidation_1-error:0.24769\tvalidation_1-logloss:0.57507\n",
      "[47]\tvalidation_0-error:0.23291\tvalidation_0-logloss:0.57285\tvalidation_1-error:0.24769\tvalidation_1-logloss:0.57340\n",
      "[48]\tvalidation_0-error:0.23291\tvalidation_0-logloss:0.57118\tvalidation_1-error:0.24769\tvalidation_1-logloss:0.57178\n",
      "[49]\tvalidation_0-error:0.23336\tvalidation_0-logloss:0.56954\tvalidation_1-error:0.24677\tvalidation_1-logloss:0.57015\n",
      "[50]\tvalidation_0-error:0.23336\tvalidation_0-logloss:0.56790\tvalidation_1-error:0.24769\tvalidation_1-logloss:0.56856\n",
      "[51]\tvalidation_0-error:0.23336\tvalidation_0-logloss:0.56618\tvalidation_1-error:0.24677\tvalidation_1-logloss:0.56687\n",
      "[52]\tvalidation_0-error:0.23336\tvalidation_0-logloss:0.56460\tvalidation_1-error:0.24769\tvalidation_1-logloss:0.56534\n",
      "[53]\tvalidation_0-error:0.23336\tvalidation_0-logloss:0.56303\tvalidation_1-error:0.24769\tvalidation_1-logloss:0.56383\n",
      "[54]\tvalidation_0-error:0.23336\tvalidation_0-logloss:0.56150\tvalidation_1-error:0.24769\tvalidation_1-logloss:0.56231\n",
      "[55]\tvalidation_0-error:0.23336\tvalidation_0-logloss:0.55986\tvalidation_1-error:0.24769\tvalidation_1-logloss:0.56073\n",
      "[56]\tvalidation_0-error:0.23291\tvalidation_0-logloss:0.55837\tvalidation_1-error:0.24677\tvalidation_1-logloss:0.55924\n",
      "[57]\tvalidation_0-error:0.23291\tvalidation_0-logloss:0.55691\tvalidation_1-error:0.24677\tvalidation_1-logloss:0.55792\n",
      "[58]\tvalidation_0-error:0.23336\tvalidation_0-logloss:0.55543\tvalidation_1-error:0.24769\tvalidation_1-logloss:0.55654\n",
      "[59]\tvalidation_0-error:0.23336\tvalidation_0-logloss:0.55401\tvalidation_1-error:0.24769\tvalidation_1-logloss:0.55522\n",
      "[60]\tvalidation_0-error:0.23336\tvalidation_0-logloss:0.55258\tvalidation_1-error:0.24769\tvalidation_1-logloss:0.55380\n",
      "[61]\tvalidation_0-error:0.23336\tvalidation_0-logloss:0.55118\tvalidation_1-error:0.24769\tvalidation_1-logloss:0.55249\n",
      "[62]\tvalidation_0-error:0.23336\tvalidation_0-logloss:0.54981\tvalidation_1-error:0.24769\tvalidation_1-logloss:0.55123\n",
      "[63]\tvalidation_0-error:0.23336\tvalidation_0-logloss:0.54844\tvalidation_1-error:0.24769\tvalidation_1-logloss:0.54990\n",
      "[64]\tvalidation_0-error:0.23336\tvalidation_0-logloss:0.54697\tvalidation_1-error:0.24769\tvalidation_1-logloss:0.54844\n",
      "[65]\tvalidation_0-error:0.23336\tvalidation_0-logloss:0.54566\tvalidation_1-error:0.24769\tvalidation_1-logloss:0.54722\n",
      "[66]\tvalidation_0-error:0.23336\tvalidation_0-logloss:0.54434\tvalidation_1-error:0.24769\tvalidation_1-logloss:0.54590\n",
      "[67]\tvalidation_0-error:0.23336\tvalidation_0-logloss:0.54303\tvalidation_1-error:0.24769\tvalidation_1-logloss:0.54477\n",
      "[68]\tvalidation_0-error:0.23336\tvalidation_0-logloss:0.54178\tvalidation_1-error:0.24769\tvalidation_1-logloss:0.54358\n",
      "[69]\tvalidation_0-error:0.23336\tvalidation_0-logloss:0.54050\tvalidation_1-error:0.24769\tvalidation_1-logloss:0.54231\n",
      "[70]\tvalidation_0-error:0.23336\tvalidation_0-logloss:0.53923\tvalidation_1-error:0.24769\tvalidation_1-logloss:0.54116\n"
     ]
    },
    {
     "name": "stdout",
     "output_type": "stream",
     "text": [
      "[71]\tvalidation_0-error:0.23336\tvalidation_0-logloss:0.53797\tvalidation_1-error:0.24769\tvalidation_1-logloss:0.53996\n",
      "[72]\tvalidation_0-error:0.23336\tvalidation_0-logloss:0.53676\tvalidation_1-error:0.24584\tvalidation_1-logloss:0.53890\n",
      "[73]\tvalidation_0-error:0.23336\tvalidation_0-logloss:0.53558\tvalidation_1-error:0.24584\tvalidation_1-logloss:0.53779\n",
      "[74]\tvalidation_0-error:0.23336\tvalidation_0-logloss:0.53437\tvalidation_1-error:0.24584\tvalidation_1-logloss:0.53661\n",
      "[75]\tvalidation_0-error:0.23336\tvalidation_0-logloss:0.53320\tvalidation_1-error:0.24584\tvalidation_1-logloss:0.53558\n",
      "[76]\tvalidation_0-error:0.23336\tvalidation_0-logloss:0.53202\tvalidation_1-error:0.24584\tvalidation_1-logloss:0.53440\n",
      "[77]\tvalidation_0-error:0.23336\tvalidation_0-logloss:0.53088\tvalidation_1-error:0.24584\tvalidation_1-logloss:0.53341\n",
      "[78]\tvalidation_0-error:0.22926\tvalidation_0-logloss:0.52976\tvalidation_1-error:0.23475\tvalidation_1-logloss:0.53241\n",
      "[79]\tvalidation_0-error:0.22926\tvalidation_0-logloss:0.52861\tvalidation_1-error:0.23475\tvalidation_1-logloss:0.53133\n",
      "[80]\tvalidation_0-error:0.23063\tvalidation_0-logloss:0.52752\tvalidation_1-error:0.23290\tvalidation_1-logloss:0.53029\n",
      "[81]\tvalidation_0-error:0.23063\tvalidation_0-logloss:0.52644\tvalidation_1-error:0.23290\tvalidation_1-logloss:0.52928\n",
      "[82]\tvalidation_0-error:0.23063\tvalidation_0-logloss:0.52533\tvalidation_1-error:0.23290\tvalidation_1-logloss:0.52819\n",
      "[83]\tvalidation_0-error:0.23063\tvalidation_0-logloss:0.52429\tvalidation_1-error:0.23198\tvalidation_1-logloss:0.52721\n",
      "[84]\tvalidation_0-error:0.23109\tvalidation_0-logloss:0.52308\tvalidation_1-error:0.23198\tvalidation_1-logloss:0.52603\n",
      "[85]\tvalidation_0-error:0.23109\tvalidation_0-logloss:0.52205\tvalidation_1-error:0.23198\tvalidation_1-logloss:0.52507\n",
      "[86]\tvalidation_0-error:0.23109\tvalidation_0-logloss:0.52103\tvalidation_1-error:0.23198\tvalidation_1-logloss:0.52419\n",
      "[87]\tvalidation_0-error:0.22972\tvalidation_0-logloss:0.52002\tvalidation_1-error:0.23383\tvalidation_1-logloss:0.52331\n",
      "[88]\tvalidation_0-error:0.22972\tvalidation_0-logloss:0.51898\tvalidation_1-error:0.23383\tvalidation_1-logloss:0.52231\n",
      "[89]\tvalidation_0-error:0.23109\tvalidation_0-logloss:0.51800\tvalidation_1-error:0.23198\tvalidation_1-logloss:0.52137\n",
      "[90]\tvalidation_0-error:0.23109\tvalidation_0-logloss:0.51697\tvalidation_1-error:0.23198\tvalidation_1-logloss:0.52042\n",
      "[91]\tvalidation_0-error:0.23109\tvalidation_0-logloss:0.51601\tvalidation_1-error:0.23198\tvalidation_1-logloss:0.51952\n",
      "[92]\tvalidation_0-error:0.23109\tvalidation_0-logloss:0.51507\tvalidation_1-error:0.23198\tvalidation_1-logloss:0.51871\n",
      "[93]\tvalidation_0-error:0.23109\tvalidation_0-logloss:0.51404\tvalidation_1-error:0.23198\tvalidation_1-logloss:0.51773\n",
      "[94]\tvalidation_0-error:0.23109\tvalidation_0-logloss:0.51311\tvalidation_1-error:0.23198\tvalidation_1-logloss:0.51687\n",
      "[95]\tvalidation_0-error:0.23109\tvalidation_0-logloss:0.51214\tvalidation_1-error:0.23198\tvalidation_1-logloss:0.51599\n",
      "[96]\tvalidation_0-error:0.23109\tvalidation_0-logloss:0.51123\tvalidation_1-error:0.23198\tvalidation_1-logloss:0.51522\n",
      "[97]\tvalidation_0-error:0.23017\tvalidation_0-logloss:0.51033\tvalidation_1-error:0.23198\tvalidation_1-logloss:0.51448\n",
      "[98]\tvalidation_0-error:0.22835\tvalidation_0-logloss:0.50943\tvalidation_1-error:0.23105\tvalidation_1-logloss:0.51375\n",
      "[99]\tvalidation_0-error:0.22835\tvalidation_0-logloss:0.50850\tvalidation_1-error:0.23105\tvalidation_1-logloss:0.51283\n",
      "Accuracy: 76.89%\n"
     ]
    },
    {
     "data": {
      "image/png": "[encoded data removed]",
      "text/plain": [
       "<Figure size 432x288 with 1 Axes>"
      ]
     },
     "metadata": {
      "needs_background": "light"
     },
     "output_type": "display_data"
    },
    {
     "data": {
      "image/png": "[encoded data removed]",
      "text/plain": [
       "<Figure size 432x288 with 1 Axes>"
      ]
     },
     "metadata": {
      "needs_background": "light"
     },
     "output_type": "display_data"
    }
   ],
   "source": [
    "from sklearn.metrics import accuracy_score\n",
    "from matplotlib import pyplot\n",
    "# load data\n",
    "dataset = water_df_clean\n",
    "# split data into X and y\n",
    "#X = dataset[:,0:8]\n",
    "#Y = dataset[:,8]\n",
    "# split data into train and test sets\n",
    "X_train, X_test, y_train, y_test = train_test_split(X, y, test_size=0.33, random_state=7)\n",
    "# fit model no training data\n",
    "model = XGBClassifier(use_label_encoder=False, \n",
    "                      booster='gbtree', # boosting algorithm to use, default gbtree, othera: gblinear, dart\n",
    "                      n_estimators=100, # number of trees, default = 100\n",
    "                      eta=0.01, # this is learning rate, default = 0.3\n",
    "                      max_depth=4, # maximum depth of the tree, default = 6\n",
    "                      gamma = 1, # used for pruning, if gain < gamma the branch will be pruned, default = 0\n",
    "                      reg_lambda = 1, # regularization parameter, defautl = 1\n",
    "                      #min_child_weight=0 # this refers to Cover which is also responsible for pruning if not set to 0\n",
    "                     )\n",
    "eval_set = [(X_train, y_train), (X_test, y_test)]\n",
    "model.fit(X_train, y_train, eval_metric=[\"error\", \"logloss\"], eval_set=eval_set, verbose=True)\n",
    "# make predictions for test data\n",
    "y_pred = model.predict(X_test)\n",
    "predictions = [round(value) for value in y_pred]\n",
    "# evaluate predictions\n",
    "accuracy = accuracy_score(y_test, predictions)\n",
    "print(\"Accuracy: %.2f%%\" % (accuracy * 100.0))\n",
    "# retrieve performance metrics\n",
    "results = model.evals_result()\n",
    "epochs = len(results['validation_0']['error'])\n",
    "x_axis = range(0, epochs)\n",
    "# plot log loss\n",
    "fig, ax = pyplot.subplots()\n",
    "ax.plot(x_axis, results['validation_0']['logloss'], label='Train')\n",
    "ax.plot(x_axis, results['validation_1']['logloss'], label='Test')\n",
    "ax.legend()\n",
    "pyplot.ylabel('Log Loss')\n",
    "pyplot.title('XGBoost Log Loss')\n",
    "pyplot.show()\n",
    "# plot classification error\n",
    "fig, ax = pyplot.subplots()\n",
    "ax.plot(x_axis, results['validation_0']['error'], label='Train')\n",
    "ax.plot(x_axis, results['validation_1']['error'], label='Test')\n",
    "ax.legend()\n",
    "pyplot.ylabel('Classification Error')\n",
    "pyplot.title('XGBoost Classification Error')\n",
    "pyplot.show()"
   ]
  },
  {
   "cell_type": "code",
   "execution_count": 204,
   "metadata": {},
   "outputs": [
    {
     "name": "stdout",
     "output_type": "stream",
     "text": [
      "[0]\tvalidation_0-logloss:0.59396\n",
      "[1]\tvalidation_0-logloss:0.53618\n",
      "[2]\tvalidation_0-logloss:0.49283\n",
      "[3]\tvalidation_0-logloss:0.46783\n",
      "[4]\tvalidation_0-logloss:0.45445\n",
      "[5]\tvalidation_0-logloss:0.44142\n",
      "[6]\tvalidation_0-logloss:0.43224\n",
      "[7]\tvalidation_0-logloss:0.42646\n",
      "[8]\tvalidation_0-logloss:0.42551\n",
      "[9]\tvalidation_0-logloss:0.42423\n",
      "[10]\tvalidation_0-logloss:0.41704\n",
      "[11]\tvalidation_0-logloss:0.41450\n",
      "[12]\tvalidation_0-logloss:0.41395\n",
      "[13]\tvalidation_0-logloss:0.41215\n",
      "[14]\tvalidation_0-logloss:0.41499\n",
      "[15]\tvalidation_0-logloss:0.41467\n",
      "[16]\tvalidation_0-logloss:0.41420\n",
      "[17]\tvalidation_0-logloss:0.41281\n",
      "[18]\tvalidation_0-logloss:0.41244\n",
      "[19]\tvalidation_0-logloss:0.41224\n",
      "[20]\tvalidation_0-logloss:0.41269\n",
      "[21]\tvalidation_0-logloss:0.41199\n",
      "[22]\tvalidation_0-logloss:0.41312\n",
      "[23]\tvalidation_0-logloss:0.41567\n",
      "[24]\tvalidation_0-logloss:0.41571\n",
      "[25]\tvalidation_0-logloss:0.41599\n",
      "[26]\tvalidation_0-logloss:0.41617\n",
      "[27]\tvalidation_0-logloss:0.41749\n",
      "[28]\tvalidation_0-logloss:0.41814\n",
      "[29]\tvalidation_0-logloss:0.41529\n",
      "Accuracy: 78.56%\n"
     ]
    },
    {
     "name": "stderr",
     "output_type": "stream",
     "text": [
      "C:\\ProgramData\\Anaconda3\\lib\\site-packages\\xgboost\\sklearn.py:1146: UserWarning: The use of label encoder in XGBClassifier is deprecated and will be removed in a future release. To remove this warning, do the following: 1) Pass option use_label_encoder=False when constructing XGBClassifier object; and 2) Encode your labels (y) as integers starting with 0, i.e. 0, 1, 2, ..., [num_class - 1].\n",
      "  warnings.warn(label_encoder_deprecation_msg, UserWarning)\n"
     ]
    }
   ],
   "source": [
    "# early stopping\n",
    "from numpy import loadtxt\n",
    "from xgboost import XGBClassifier\n",
    "from sklearn.model_selection import train_test_split\n",
    "from sklearn.metrics import accuracy_score\n",
    "\n",
    "# split data into X and y\n",
    "#X = dataset[:,0:8]\n",
    "#Y = dataset[:,8]\n",
    "# split data into train and test sets\n",
    "seed = 7\n",
    "test_size = 0.33\n",
    "X_train, X_test, y_train, y_test = train_test_split(X, y, test_size=test_size, random_state=seed)\n",
    "# fit model no training data\n",
    "model = XGBClassifier()\n",
    "eval_set = [(X_test, y_test)]\n",
    "model.fit(X_train, y_train, early_stopping_rounds=9, eval_metric=\"logloss\", eval_set=eval_set, verbose=True)\n",
    "# make predictions for test data\n",
    "y_pred = model.predict(X_test)\n",
    "predictions = [round(value) for value in y_pred]\n",
    "# evaluate predictions\n",
    "accuracy = accuracy_score(y_test, predictions)\n",
    "print(\"Accuracy: %.2f%%\" % (accuracy * 100.0))"
   ]
  },
  {
   "cell_type": "code",
   "execution_count": 201,
   "metadata": {},
   "outputs": [
    {
     "data": {
      "text/plain": [
       "0.7855822550831792"
      ]
     },
     "execution_count": 201,
     "metadata": {},
     "output_type": "execute_result"
    }
   ],
   "source": [
    "model.score(X_test,y_test)"
   ]
  },
  {
   "cell_type": "code",
   "execution_count": 202,
   "metadata": {},
   "outputs": [
    {
     "name": "stdout",
     "output_type": "stream",
     "text": [
      "test data accuracy was  0.7855822550831792\n",
      "train data accuracy was  0.935278030993619\n"
     ]
    }
   ],
   "source": [
    "print(\"test data accuracy was \",model.score(X_test,y_test))\n",
    "# 100% on training data\n",
    "print(\"train data accuracy was \",model.score(X_train,y_train))"
   ]
  },
  {
   "cell_type": "markdown",
   "metadata": {},
   "source": [
    "## Recall score"
   ]
  },
  {
   "cell_type": "code",
   "execution_count": 206,
   "metadata": {},
   "outputs": [
    {
     "ename": "TypeError",
     "evalue": "predict() missing 1 required positional argument: 'X'",
     "output_type": "error",
     "traceback": [
      "\u001b[1;31m---------------------------------------------------------------------------\u001b[0m",
      "\u001b[1;31mTypeError\u001b[0m                                 Traceback (most recent call last)",
      "\u001b[1;32m<ipython-input-206-afa6b04ca8d2>\u001b[0m in \u001b[0;36m<module>\u001b[1;34m\u001b[0m\n\u001b[0;32m      1\u001b[0m \u001b[1;32mfrom\u001b[0m \u001b[0msklearn\u001b[0m\u001b[1;33m.\u001b[0m\u001b[0mmetrics\u001b[0m \u001b[1;32mimport\u001b[0m \u001b[0mrecall_score\u001b[0m\u001b[1;33m\u001b[0m\u001b[1;33m\u001b[0m\u001b[0m\n\u001b[0;32m      2\u001b[0m \u001b[0my_true\u001b[0m \u001b[1;33m=\u001b[0m \u001b[0mwater_df_clean\u001b[0m\u001b[1;33m[\u001b[0m\u001b[1;34m'Potability'\u001b[0m\u001b[1;33m]\u001b[0m\u001b[1;33m\u001b[0m\u001b[1;33m\u001b[0m\u001b[0m\n\u001b[1;32m----> 3\u001b[1;33m \u001b[0my_pred\u001b[0m \u001b[1;33m=\u001b[0m \u001b[0mpd\u001b[0m\u001b[1;33m.\u001b[0m\u001b[0mSeries\u001b[0m\u001b[1;33m(\u001b[0m\u001b[0mXGBClassifier\u001b[0m\u001b[1;33m.\u001b[0m\u001b[0mpredict\u001b[0m\u001b[1;33m(\u001b[0m\u001b[0mX_test\u001b[0m\u001b[1;33m)\u001b[0m\u001b[1;33m,\u001b[0m\u001b[0mname\u001b[0m\u001b[1;33m=\u001b[0m\u001b[1;34m'Potability'\u001b[0m\u001b[1;33m)\u001b[0m\u001b[1;33m\u001b[0m\u001b[1;33m\u001b[0m\u001b[0m\n\u001b[0m",
      "\u001b[1;31mTypeError\u001b[0m: predict() missing 1 required positional argument: 'X'"
     ]
    }
   ],
   "source": [
    "from sklearn.metrics import recall_score\n",
    "y_true = water_df_clean['Potability']\n",
    "y_pred = pd.Series(XGBClassifier.predict(X_test),name='Potability')"
   ]
  },
  {
   "cell_type": "code",
   "execution_count": 186,
   "metadata": {},
   "outputs": [
    {
     "data": {
      "text/plain": [
       "1082"
      ]
     },
     "execution_count": 186,
     "metadata": {},
     "output_type": "execute_result"
    }
   ],
   "source": [
    "len(y_pred)"
   ]
  },
  {
   "cell_type": "code",
   "execution_count": 171,
   "metadata": {},
   "outputs": [
    {
     "ename": "ValueError",
     "evalue": "Found input variables with inconsistent numbers of samples: [3276, 1082]",
     "output_type": "error",
     "traceback": [
      "\u001b[1;31m---------------------------------------------------------------------------\u001b[0m",
      "\u001b[1;31mValueError\u001b[0m                                Traceback (most recent call last)",
      "\u001b[1;32m<ipython-input-171-d3c34b79eb72>\u001b[0m in \u001b[0;36m<module>\u001b[1;34m\u001b[0m\n\u001b[1;32m----> 1\u001b[1;33m \u001b[0mrecall_score\u001b[0m\u001b[1;33m(\u001b[0m\u001b[0my_true\u001b[0m\u001b[1;33m,\u001b[0m \u001b[0my_pred\u001b[0m\u001b[1;33m,\u001b[0m \u001b[0maverage\u001b[0m\u001b[1;33m=\u001b[0m\u001b[1;34m'micro'\u001b[0m\u001b[1;33m)\u001b[0m\u001b[1;33m\u001b[0m\u001b[1;33m\u001b[0m\u001b[0m\n\u001b[0m",
      "\u001b[1;32mC:\\ProgramData\\Anaconda3\\lib\\site-packages\\sklearn\\utils\\validation.py\u001b[0m in \u001b[0;36minner_f\u001b[1;34m(*args, **kwargs)\u001b[0m\n\u001b[0;32m     61\u001b[0m             \u001b[0mextra_args\u001b[0m \u001b[1;33m=\u001b[0m \u001b[0mlen\u001b[0m\u001b[1;33m(\u001b[0m\u001b[0margs\u001b[0m\u001b[1;33m)\u001b[0m \u001b[1;33m-\u001b[0m \u001b[0mlen\u001b[0m\u001b[1;33m(\u001b[0m\u001b[0mall_args\u001b[0m\u001b[1;33m)\u001b[0m\u001b[1;33m\u001b[0m\u001b[1;33m\u001b[0m\u001b[0m\n\u001b[0;32m     62\u001b[0m             \u001b[1;32mif\u001b[0m \u001b[0mextra_args\u001b[0m \u001b[1;33m<=\u001b[0m \u001b[1;36m0\u001b[0m\u001b[1;33m:\u001b[0m\u001b[1;33m\u001b[0m\u001b[1;33m\u001b[0m\u001b[0m\n\u001b[1;32m---> 63\u001b[1;33m                 \u001b[1;32mreturn\u001b[0m \u001b[0mf\u001b[0m\u001b[1;33m(\u001b[0m\u001b[1;33m*\u001b[0m\u001b[0margs\u001b[0m\u001b[1;33m,\u001b[0m \u001b[1;33m**\u001b[0m\u001b[0mkwargs\u001b[0m\u001b[1;33m)\u001b[0m\u001b[1;33m\u001b[0m\u001b[1;33m\u001b[0m\u001b[0m\n\u001b[0m\u001b[0;32m     64\u001b[0m \u001b[1;33m\u001b[0m\u001b[0m\n\u001b[0;32m     65\u001b[0m             \u001b[1;31m# extra_args > 0\u001b[0m\u001b[1;33m\u001b[0m\u001b[1;33m\u001b[0m\u001b[1;33m\u001b[0m\u001b[0m\n",
      "\u001b[1;32mC:\\ProgramData\\Anaconda3\\lib\\site-packages\\sklearn\\metrics\\_classification.py\u001b[0m in \u001b[0;36mrecall_score\u001b[1;34m(y_true, y_pred, labels, pos_label, average, sample_weight, zero_division)\u001b[0m\n\u001b[0;32m   1772\u001b[0m     \u001b[0marray\u001b[0m\u001b[1;33m(\u001b[0m\u001b[1;33m[\u001b[0m\u001b[1;36m0.5\u001b[0m\u001b[1;33m,\u001b[0m \u001b[1;36m1.\u001b[0m \u001b[1;33m,\u001b[0m \u001b[1;36m1.\u001b[0m \u001b[1;33m]\u001b[0m\u001b[1;33m)\u001b[0m\u001b[1;33m\u001b[0m\u001b[1;33m\u001b[0m\u001b[0m\n\u001b[0;32m   1773\u001b[0m     \"\"\"\n\u001b[1;32m-> 1774\u001b[1;33m     _, r, _, _ = precision_recall_fscore_support(y_true, y_pred,\n\u001b[0m\u001b[0;32m   1775\u001b[0m                                                  \u001b[0mlabels\u001b[0m\u001b[1;33m=\u001b[0m\u001b[0mlabels\u001b[0m\u001b[1;33m,\u001b[0m\u001b[1;33m\u001b[0m\u001b[1;33m\u001b[0m\u001b[0m\n\u001b[0;32m   1776\u001b[0m                                                  \u001b[0mpos_label\u001b[0m\u001b[1;33m=\u001b[0m\u001b[0mpos_label\u001b[0m\u001b[1;33m,\u001b[0m\u001b[1;33m\u001b[0m\u001b[1;33m\u001b[0m\u001b[0m\n",
      "\u001b[1;32mC:\\ProgramData\\Anaconda3\\lib\\site-packages\\sklearn\\utils\\validation.py\u001b[0m in \u001b[0;36minner_f\u001b[1;34m(*args, **kwargs)\u001b[0m\n\u001b[0;32m     61\u001b[0m             \u001b[0mextra_args\u001b[0m \u001b[1;33m=\u001b[0m \u001b[0mlen\u001b[0m\u001b[1;33m(\u001b[0m\u001b[0margs\u001b[0m\u001b[1;33m)\u001b[0m \u001b[1;33m-\u001b[0m \u001b[0mlen\u001b[0m\u001b[1;33m(\u001b[0m\u001b[0mall_args\u001b[0m\u001b[1;33m)\u001b[0m\u001b[1;33m\u001b[0m\u001b[1;33m\u001b[0m\u001b[0m\n\u001b[0;32m     62\u001b[0m             \u001b[1;32mif\u001b[0m \u001b[0mextra_args\u001b[0m \u001b[1;33m<=\u001b[0m \u001b[1;36m0\u001b[0m\u001b[1;33m:\u001b[0m\u001b[1;33m\u001b[0m\u001b[1;33m\u001b[0m\u001b[0m\n\u001b[1;32m---> 63\u001b[1;33m                 \u001b[1;32mreturn\u001b[0m \u001b[0mf\u001b[0m\u001b[1;33m(\u001b[0m\u001b[1;33m*\u001b[0m\u001b[0margs\u001b[0m\u001b[1;33m,\u001b[0m \u001b[1;33m**\u001b[0m\u001b[0mkwargs\u001b[0m\u001b[1;33m)\u001b[0m\u001b[1;33m\u001b[0m\u001b[1;33m\u001b[0m\u001b[0m\n\u001b[0m\u001b[0;32m     64\u001b[0m \u001b[1;33m\u001b[0m\u001b[0m\n\u001b[0;32m     65\u001b[0m             \u001b[1;31m# extra_args > 0\u001b[0m\u001b[1;33m\u001b[0m\u001b[1;33m\u001b[0m\u001b[1;33m\u001b[0m\u001b[0m\n",
      "\u001b[1;32mC:\\ProgramData\\Anaconda3\\lib\\site-packages\\sklearn\\metrics\\_classification.py\u001b[0m in \u001b[0;36mprecision_recall_fscore_support\u001b[1;34m(y_true, y_pred, beta, labels, pos_label, average, warn_for, sample_weight, zero_division)\u001b[0m\n\u001b[0;32m   1462\u001b[0m     \u001b[1;32mif\u001b[0m \u001b[0mbeta\u001b[0m \u001b[1;33m<\u001b[0m \u001b[1;36m0\u001b[0m\u001b[1;33m:\u001b[0m\u001b[1;33m\u001b[0m\u001b[1;33m\u001b[0m\u001b[0m\n\u001b[0;32m   1463\u001b[0m         \u001b[1;32mraise\u001b[0m \u001b[0mValueError\u001b[0m\u001b[1;33m(\u001b[0m\u001b[1;34m\"beta should be >=0 in the F-beta score\"\u001b[0m\u001b[1;33m)\u001b[0m\u001b[1;33m\u001b[0m\u001b[1;33m\u001b[0m\u001b[0m\n\u001b[1;32m-> 1464\u001b[1;33m     labels = _check_set_wise_labels(y_true, y_pred, average, labels,\n\u001b[0m\u001b[0;32m   1465\u001b[0m                                     pos_label)\n\u001b[0;32m   1466\u001b[0m \u001b[1;33m\u001b[0m\u001b[0m\n",
      "\u001b[1;32mC:\\ProgramData\\Anaconda3\\lib\\site-packages\\sklearn\\metrics\\_classification.py\u001b[0m in \u001b[0;36m_check_set_wise_labels\u001b[1;34m(y_true, y_pred, average, labels, pos_label)\u001b[0m\n\u001b[0;32m   1275\u001b[0m                          str(average_options))\n\u001b[0;32m   1276\u001b[0m \u001b[1;33m\u001b[0m\u001b[0m\n\u001b[1;32m-> 1277\u001b[1;33m     \u001b[0my_type\u001b[0m\u001b[1;33m,\u001b[0m \u001b[0my_true\u001b[0m\u001b[1;33m,\u001b[0m \u001b[0my_pred\u001b[0m \u001b[1;33m=\u001b[0m \u001b[0m_check_targets\u001b[0m\u001b[1;33m(\u001b[0m\u001b[0my_true\u001b[0m\u001b[1;33m,\u001b[0m \u001b[0my_pred\u001b[0m\u001b[1;33m)\u001b[0m\u001b[1;33m\u001b[0m\u001b[1;33m\u001b[0m\u001b[0m\n\u001b[0m\u001b[0;32m   1278\u001b[0m     \u001b[1;31m# Convert to Python primitive type to avoid NumPy type / Python str\u001b[0m\u001b[1;33m\u001b[0m\u001b[1;33m\u001b[0m\u001b[1;33m\u001b[0m\u001b[0m\n\u001b[0;32m   1279\u001b[0m     \u001b[1;31m# comparison. See https://github.com/numpy/numpy/issues/6784\u001b[0m\u001b[1;33m\u001b[0m\u001b[1;33m\u001b[0m\u001b[1;33m\u001b[0m\u001b[0m\n",
      "\u001b[1;32mC:\\ProgramData\\Anaconda3\\lib\\site-packages\\sklearn\\metrics\\_classification.py\u001b[0m in \u001b[0;36m_check_targets\u001b[1;34m(y_true, y_pred)\u001b[0m\n\u001b[0;32m     81\u001b[0m     \u001b[0my_pred\u001b[0m \u001b[1;33m:\u001b[0m \u001b[0marray\u001b[0m \u001b[1;32mor\u001b[0m \u001b[0mindicator\u001b[0m \u001b[0mmatrix\u001b[0m\u001b[1;33m\u001b[0m\u001b[1;33m\u001b[0m\u001b[0m\n\u001b[0;32m     82\u001b[0m     \"\"\"\n\u001b[1;32m---> 83\u001b[1;33m     \u001b[0mcheck_consistent_length\u001b[0m\u001b[1;33m(\u001b[0m\u001b[0my_true\u001b[0m\u001b[1;33m,\u001b[0m \u001b[0my_pred\u001b[0m\u001b[1;33m)\u001b[0m\u001b[1;33m\u001b[0m\u001b[1;33m\u001b[0m\u001b[0m\n\u001b[0m\u001b[0;32m     84\u001b[0m     \u001b[0mtype_true\u001b[0m \u001b[1;33m=\u001b[0m \u001b[0mtype_of_target\u001b[0m\u001b[1;33m(\u001b[0m\u001b[0my_true\u001b[0m\u001b[1;33m)\u001b[0m\u001b[1;33m\u001b[0m\u001b[1;33m\u001b[0m\u001b[0m\n\u001b[0;32m     85\u001b[0m     \u001b[0mtype_pred\u001b[0m \u001b[1;33m=\u001b[0m \u001b[0mtype_of_target\u001b[0m\u001b[1;33m(\u001b[0m\u001b[0my_pred\u001b[0m\u001b[1;33m)\u001b[0m\u001b[1;33m\u001b[0m\u001b[1;33m\u001b[0m\u001b[0m\n",
      "\u001b[1;32mC:\\ProgramData\\Anaconda3\\lib\\site-packages\\sklearn\\utils\\validation.py\u001b[0m in \u001b[0;36mcheck_consistent_length\u001b[1;34m(*arrays)\u001b[0m\n\u001b[0;32m    317\u001b[0m     \u001b[0muniques\u001b[0m \u001b[1;33m=\u001b[0m \u001b[0mnp\u001b[0m\u001b[1;33m.\u001b[0m\u001b[0munique\u001b[0m\u001b[1;33m(\u001b[0m\u001b[0mlengths\u001b[0m\u001b[1;33m)\u001b[0m\u001b[1;33m\u001b[0m\u001b[1;33m\u001b[0m\u001b[0m\n\u001b[0;32m    318\u001b[0m     \u001b[1;32mif\u001b[0m \u001b[0mlen\u001b[0m\u001b[1;33m(\u001b[0m\u001b[0muniques\u001b[0m\u001b[1;33m)\u001b[0m \u001b[1;33m>\u001b[0m \u001b[1;36m1\u001b[0m\u001b[1;33m:\u001b[0m\u001b[1;33m\u001b[0m\u001b[1;33m\u001b[0m\u001b[0m\n\u001b[1;32m--> 319\u001b[1;33m         raise ValueError(\"Found input variables with inconsistent numbers of\"\n\u001b[0m\u001b[0;32m    320\u001b[0m                          \" samples: %r\" % [int(l) for l in lengths])\n\u001b[0;32m    321\u001b[0m \u001b[1;33m\u001b[0m\u001b[0m\n",
      "\u001b[1;31mValueError\u001b[0m: Found input variables with inconsistent numbers of samples: [3276, 1082]"
     ]
    }
   ],
   "source": [
    "recall_score(y_true, y_pred, average='micro')"
   ]
  },
  {
   "cell_type": "markdown",
   "metadata": {},
   "source": [
    "# 1.2Decision Tree Classifier"
   ]
  },
  {
   "cell_type": "code",
   "execution_count": 55,
   "metadata": {},
   "outputs": [],
   "source": [
    "from sklearn.tree import DecisionTreeClassifier"
   ]
  },
  {
   "cell_type": "code",
   "execution_count": 92,
   "metadata": {},
   "outputs": [
    {
     "data": {
      "text/plain": [
       "DecisionTreeClassifier(max_depth=7)"
      ]
     },
     "execution_count": 92,
     "metadata": {},
     "output_type": "execute_result"
    }
   ],
   "source": [
    "model = DecisionTreeClassifier(max_depth = 7) # i choose 3 insted of 20, because gives the best result without overfiting, the number was choosen based on the plot in the cell down!!\n",
    "model.fit(X_train, y_train)"
   ]
  },
  {
   "cell_type": "code",
   "execution_count": 93,
   "metadata": {},
   "outputs": [
    {
     "name": "stdout",
     "output_type": "stream",
     "text": [
      "test data accuracy was  0.8109756097560976\n",
      "train data accuracy was  0.814000814000814\n"
     ]
    }
   ],
   "source": [
    "#Trees are, unfortunately, overfitty\n",
    "# relatively low performance on test\n",
    "print(\"test data accuracy was \",model.score(X_test,y_test))\n",
    "# 100% on training data\n",
    "print(\"train data accuracy was \",model.score(X_train,y_train))"
   ]
  },
  {
   "cell_type": "markdown",
   "metadata": {},
   "source": [
    "# 1.1.1Decision Tree Classifier visual Hyperparameters Tuning"
   ]
  },
  {
   "cell_type": "code",
   "execution_count": 58,
   "metadata": {},
   "outputs": [],
   "source": [
    "# why dont I repeat the process but choose the max_depth of the tree\n",
    "max_depth = range(1,30)\n",
    "test = []\n",
    "train = []\n",
    "\n",
    "for depth in max_depth:\n",
    "  model = DecisionTreeClassifier(max_depth= depth)\n",
    "  model.fit(X_train, y_train)\n",
    "  test.append(model.score(X_test,y_test))\n",
    "  train.append(model.score(X_train,y_train))"
   ]
  },
  {
   "cell_type": "code",
   "execution_count": 59,
   "metadata": {
    "scrolled": true
   },
   "outputs": [
    {
     "data": {
      "text/plain": [
       "<matplotlib.legend.Legend at 0x16d37c21a60>"
      ]
     },
     "execution_count": 59,
     "metadata": {},
     "output_type": "execute_result"
    },
    {
     "data": {
      "image/png": "[encoded data removed]",
      "text/plain": [
       "<Figure size 432x288 with 1 Axes>"
      ]
     },
     "metadata": {
      "needs_background": "light"
     },
     "output_type": "display_data"
    }
   ],
   "source": [
    "# we quickly see overfitting properties\n",
    "import matplotlib.pyplot as plt\n",
    "plt.plot( train, label=\"training accuracy\")\n",
    "plt.plot( test, label=\"test accuracy\")\n",
    "plt.ylabel(\"Accuracy\")\n",
    "plt.xlabel(\"n_depth\")\n",
    "plt.legend()"
   ]
  },
  {
   "cell_type": "markdown",
   "metadata": {},
   "source": [
    "# 1.3 Random Forest Classifier"
   ]
  },
  {
   "cell_type": "code",
   "execution_count": 117,
   "metadata": {},
   "outputs": [],
   "source": [
    "from sklearn.ensemble import RandomForestClassifier"
   ]
  },
  {
   "cell_type": "code",
   "execution_count": 118,
   "metadata": {},
   "outputs": [
    {
     "data": {
      "text/plain": [
       "RandomForestClassifier(random_state=1)"
      ]
     },
     "execution_count": 118,
     "metadata": {},
     "output_type": "execute_result"
    }
   ],
   "source": [
    "from sklearn.ensemble import RandomForestClassifier\n",
    "forest_model = RandomForestClassifier(random_state=1) #not defining any hyperparameters\n",
    "forest_model.fit(X_train, y_train)"
   ]
  },
  {
   "cell_type": "code",
   "execution_count": 119,
   "metadata": {},
   "outputs": [
    {
     "data": {
      "text/plain": [
       "0.9359756097560976"
      ]
     },
     "execution_count": 119,
     "metadata": {},
     "output_type": "execute_result"
    }
   ],
   "source": [
    "forest_model.score(X_test,y_test)"
   ]
  },
  {
   "cell_type": "markdown",
   "metadata": {},
   "source": [
    "# 1.2.1 Random Forest Classifier Hyperparameters Tuning"
   ]
  },
  {
   "cell_type": "markdown",
   "metadata": {},
   "source": [
    "# 1.2.1.1 Grid Search"
   ]
  },
  {
   "cell_type": "code",
   "execution_count": 97,
   "metadata": {},
   "outputs": [],
   "source": [
    "# Grid Search goes through all combinations of hyperparameters\n",
    "from sklearn.model_selection import GridSearchCV\n",
    "\n",
    "# we need to define what we consider the \"full list\" of hyperparameters\n",
    "\n",
    "# Number of trees in random forest\n",
    "n_estimators = [10,100,500,1000]\n",
    "# Mximum number of total leaves to consider\n",
    "max_leaf_nodes = [15, 30, 40]\n",
    "# Maximum number of levels in each tree\n",
    "max_depth = [5,10]"
   ]
  },
  {
   "cell_type": "code",
   "execution_count": 98,
   "metadata": {},
   "outputs": [],
   "source": [
    "# Create the  grid \n",
    "# this is a dictionary from hyperparameters to potential values\n",
    "# the keys in this dictionary have to match the names of the hyperparameters in the documentation of the model\n",
    "grid = {'n_estimators': n_estimators,\n",
    "        'max_leaf_nodes': max_leaf_nodes,\n",
    "        'max_depth': max_depth}"
   ]
  },
  {
   "cell_type": "code",
   "execution_count": 99,
   "metadata": {},
   "outputs": [],
   "source": [
    "# Instantiate the grid search model object\n",
    "\n",
    "# estimator -> model to optimize \n",
    "forest = RandomForestClassifier()\n",
    "# param_grid -> state the dictionary of parameters to optimize\n",
    "# cv = 5 -> number of cross validation folds <------ CV is REALLY important in grid search. Why?\n",
    "#Cross validation is a technique used to identify how well our model performed and there is always a need to test the accuracy of our model to verify that,\n",
    "#our model is well trained with data without any overfitting and underfitting\n",
    "grid_search = GridSearchCV(estimator = forest, param_grid = grid, cv = 5)"
   ]
  },
  {
   "cell_type": "code",
   "execution_count": 100,
   "metadata": {},
   "outputs": [
    {
     "data": {
      "text/plain": [
       "GridSearchCV(cv=5, estimator=RandomForestClassifier(),\n",
       "             param_grid={'max_depth': [5, 10], 'max_leaf_nodes': [15, 30, 40],\n",
       "                         'n_estimators': [10, 100, 500, 1000]})"
      ]
     },
     "execution_count": 100,
     "metadata": {},
     "output_type": "execute_result"
    }
   ],
   "source": [
    "# Fit the grid search to the data\n",
    "grid_search.fit(X_train, y_train)"
   ]
  },
  {
   "cell_type": "code",
   "execution_count": 101,
   "metadata": {},
   "outputs": [
    {
     "data": {
      "text/plain": [
       "{'max_depth': 10, 'max_leaf_nodes': 40, 'n_estimators': 1000}"
      ]
     },
     "execution_count": 101,
     "metadata": {},
     "output_type": "execute_result"
    }
   ],
   "source": [
    "# and the winner is...\n",
    "grid_search.best_params_"
   ]
  },
  {
   "cell_type": "code",
   "execution_count": 102,
   "metadata": {},
   "outputs": [
    {
     "data": {
      "text/plain": [
       "0.7944662460881229"
      ]
     },
     "execution_count": 102,
     "metadata": {},
     "output_type": "execute_result"
    }
   ],
   "source": [
    "# in grid search you are more likely to get really good results in your training set, even with CV\n",
    "grid_search.best_score_"
   ]
  },
  {
   "cell_type": "code",
   "execution_count": 103,
   "metadata": {},
   "outputs": [
    {
     "data": {
      "text/plain": [
       "0.8399390243902439"
      ]
     },
     "execution_count": 103,
     "metadata": {},
     "output_type": "execute_result"
    }
   ],
   "source": [
    "grid_search.score(X_test, y_test)"
   ]
  },
  {
   "cell_type": "code",
   "execution_count": 104,
   "metadata": {},
   "outputs": [
    {
     "ename": "SyntaxError",
     "evalue": "invalid syntax (<ipython-input-104-a98fbe958439>, line 1)",
     "output_type": "error",
     "traceback": [
      "\u001b[1;36m  File \u001b[1;32m\"<ipython-input-104-a98fbe958439>\"\u001b[1;36m, line \u001b[1;32m1\u001b[0m\n\u001b[1;33m    Drawback : GridSearchCV will go through all the intermediate combinations of hyperparameters which makes grid search computationally very expensive.\u001b[0m\n\u001b[1;37m                            ^\u001b[0m\n\u001b[1;31mSyntaxError\u001b[0m\u001b[1;31m:\u001b[0m invalid syntax\n"
     ]
    }
   ],
   "source": [
    "Drawback : GridSearchCV will go through all the intermediate combinations of hyperparameters which makes grid search computationally very expensive.\n",
    " \n",
    "RandomizedSearchCV\n",
    "RandomizedSearchCV solves the drawbacks of GridSearchCV, as it goes through only a fixed number of hyperparameter settings."
   ]
  },
  {
   "cell_type": "markdown",
   "metadata": {},
   "source": [
    "# 1.2.1.2Random Search"
   ]
  },
  {
   "cell_type": "code",
   "execution_count": 207,
   "metadata": {},
   "outputs": [],
   "source": [
    "# let us consider a large space of parameters\n",
    "# go find parameters to optimize https://scikit-learn.org/stable/modules/generated/sklearn.ensemble.RandomForestRegressor.html\n",
    "\n",
    "# Number of trees in random forest\n",
    "n_estimators = [int(x) for x in np.linspace(start = 200, stop = 2000, num = 10)]\n",
    "# Number of features to consider at every split <- a non-numeric parameter, no problem. Could also have been used in gridsearch\n",
    "max_features = ['auto', 'sqrt']\n",
    "# Maximum number of levels in tree\n",
    "max_depth = [int(x) for x in np.linspace(10, 110, num = 11)]\n",
    "max_depth.append(None) #<- plus no cap\n",
    "# Minimum number of samples required to split a node\n",
    "min_samples_split = [2, 5, 10]\n",
    "# Minimum number of samples required at each leaf node\n",
    "min_samples_leaf = [1, 2, 4]\n",
    "# Method of selecting samples for training each tree\n",
    "bootstrap = [True, False]\n",
    "# Create the random grid\n",
    "random_grid = {'n_estimators': n_estimators,\n",
    "               'max_features': max_features,\n",
    "               'max_depth': max_depth,\n",
    "               'min_samples_split': min_samples_split,\n",
    "               'min_samples_leaf': min_samples_leaf,\n",
    "               'bootstrap': bootstrap}"
   ]
  },
  {
   "cell_type": "code",
   "execution_count": 208,
   "metadata": {},
   "outputs": [],
   "source": [
    "# it would be a bit insane to go over all of these combinations\n",
    "# random search to the rescue\n",
    "from sklearn.model_selection import RandomizedSearchCV\n",
    "\n",
    "# in random search you have to say how many iterations you want to get:\n",
    "# n_ iter -> how many random combinations he will try\n",
    "\n",
    "# n_jobs -> if you want sklearn to parallelize the process. Can also be used in grid search\n",
    "\n",
    "random_search = RandomizedSearchCV(estimator = forest, param_distributions = random_grid, n_iter = 20, cv = 5, n_jobs = 10)"
   ]
  },
  {
   "cell_type": "code",
   "execution_count": 107,
   "metadata": {},
   "outputs": [
    {
     "data": {
      "text/plain": [
       "RandomizedSearchCV(cv=5, estimator=RandomForestClassifier(), n_iter=20,\n",
       "                   n_jobs=10,\n",
       "                   param_distributions={'bootstrap': [True, False],\n",
       "                                        'max_depth': [10, 20, 30, 40, 50, 60,\n",
       "                                                      70, 80, 90, 100, 110,\n",
       "                                                      None],\n",
       "                                        'max_features': ['auto', 'sqrt'],\n",
       "                                        'min_samples_leaf': [1, 2, 4],\n",
       "                                        'min_samples_split': [2, 5, 10],\n",
       "                                        'n_estimators': [200, 400, 600, 800,\n",
       "                                                         1000, 1200, 1400, 1600,\n",
       "                                                         1800, 2000]})"
      ]
     },
     "execution_count": 107,
     "metadata": {},
     "output_type": "execute_result"
    }
   ],
   "source": [
    "random_search.fit(X_train,y_train)"
   ]
  },
  {
   "cell_type": "code",
   "execution_count": 108,
   "metadata": {},
   "outputs": [
    {
     "data": {
      "text/plain": [
       "{'n_estimators': 1000,\n",
       " 'min_samples_split': 5,\n",
       " 'min_samples_leaf': 4,\n",
       " 'max_features': 'sqrt',\n",
       " 'max_depth': 50,\n",
       " 'bootstrap': True}"
      ]
     },
     "execution_count": 108,
     "metadata": {},
     "output_type": "execute_result"
    }
   ],
   "source": [
    "random_search.best_params_"
   ]
  },
  {
   "cell_type": "code",
   "execution_count": 212,
   "metadata": {},
   "outputs": [
    {
     "data": {
      "text/plain": [
       "0.7985212569316081"
      ]
     },
     "execution_count": 212,
     "metadata": {},
     "output_type": "execute_result"
    }
   ],
   "source": [
    "forest = RandomForestClassifier(bootstrap= True, max_depth= 50, max_features= 'sqrt', min_samples_leaf= 4,min_samples_split= 5,n_estimators= 1000)\n",
    "forest.fit(X_train,y_train)\n",
    "forest.score(X_test,y_test)"
   ]
  },
  {
   "cell_type": "code",
   "execution_count": null,
   "metadata": {},
   "outputs": [],
   "source": []
  },
  {
   "cell_type": "code",
   "execution_count": 110,
   "metadata": {},
   "outputs": [
    {
     "data": {
      "text/plain": [
       "0.8005737419899657"
      ]
     },
     "execution_count": 110,
     "metadata": {},
     "output_type": "execute_result"
    }
   ],
   "source": [
    "random_search.best_score_"
   ]
  },
  {
   "cell_type": "code",
   "execution_count": 111,
   "metadata": {},
   "outputs": [
    {
     "data": {
      "text/plain": [
       "0.9039634146341463"
      ]
     },
     "execution_count": 111,
     "metadata": {},
     "output_type": "execute_result"
    }
   ],
   "source": [
    "random_search.score(X_test, y_test)"
   ]
  },
  {
   "cell_type": "code",
   "execution_count": 213,
   "metadata": {},
   "outputs": [],
   "source": [
    "water_prediction = pd.Series(forest.predict(X),name='Potability')"
   ]
  },
  {
   "cell_type": "code",
   "execution_count": 214,
   "metadata": {},
   "outputs": [
    {
     "data": {
      "text/plain": [
       "0.9151404151404151"
      ]
     },
     "execution_count": 214,
     "metadata": {},
     "output_type": "execute_result"
    }
   ],
   "source": [
    "#water_prediction\n",
    "recall_score(y, water_prediction, average='micro')"
   ]
  },
  {
   "cell_type": "code",
   "execution_count": null,
   "metadata": {},
   "outputs": [],
   "source": [
    "#dataset with all the columns including the sales that where predicted with the model\n",
    "results_Forest = pd.concat([water_parameters.drop(['Potability'],axis=1), water_prediction],axis=1)\n",
    "\n",
    "#displays the dataframe\n",
    "results_Forest.head()"
   ]
  },
  {
   "cell_type": "code",
   "execution_count": null,
   "metadata": {},
   "outputs": [],
   "source": [
    "results_Forest.to_excel('Predicted_Water_potability.xlsx',index = False)"
   ]
  },
  {
   "cell_type": "markdown",
   "metadata": {},
   "source": [
    "# vou escolher a random Forest!!"
   ]
  }
 ],
 "metadata": {
  "kernelspec": {
   "display_name": "Python 3",
   "language": "python",
   "name": "python3"
  },
  "language_info": {
   "codemirror_mode": {
    "name": "ipython",
    "version": 3
   },
   "file_extension": ".py",
   "mimetype": "text/x-python",
   "name": "python",
   "nbconvert_exporter": "python",
   "pygments_lexer": "ipython3",
   "version": "3.8.5"
  }
 },
 "nbformat": 4,
 "nbformat_minor": 4
}
